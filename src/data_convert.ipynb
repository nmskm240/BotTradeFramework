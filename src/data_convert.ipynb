{
 "cells": [
  {
   "cell_type": "code",
   "execution_count": 1,
   "metadata": {},
   "outputs": [],
   "source": [
    "from sqlalchemy import create_engine\n",
    "from sqlalchemy.orm import sessionmaker\n",
    "from domain import Base, Candle\n",
    "import pandas\n",
    "\n",
    "for ex in [\"Binance\"]:\n",
    "    engine = create_engine(f\"sqlite:///../data/{ex}.sqlite3\")\n",
    "    Base.metadata.create_all(bind=engine)\n",
    "    Session = sessionmaker(bind=engine)\n",
    "    session = Session()\n",
    "\n",
    "    for symbol in [\"btc_usdt\", \"eth_usdt\", \"eth_btc\"]:\n",
    "        df = pandas.read_csv(f\"../data/{ex}/{symbol}_1m.csv\")\n",
    "        df.columns = [\"timestamp\", \"open\", \"high\", \"low\", \"close\", \"volume\"]\n",
    "        df[\"symbol\"] = symbol\n",
    "        df = df.drop_duplicates()\n",
    "        df = df.sort_values(\"timestamp\", ignore_index=True)\n",
    "\n",
    "        df.to_sql(Candle.__tablename__, engine, index=False, if_exists=\"append\")\n"
   ]
  }
 ],
 "metadata": {
  "kernelspec": {
   "display_name": "Python 3",
   "language": "python",
   "name": "python3"
  },
  "language_info": {
   "codemirror_mode": {
    "name": "ipython",
    "version": 3
   },
   "file_extension": ".py",
   "mimetype": "text/x-python",
   "name": "python",
   "nbconvert_exporter": "python",
   "pygments_lexer": "ipython3",
   "version": "3.10.0"
  }
 },
 "nbformat": 4,
 "nbformat_minor": 2
}
