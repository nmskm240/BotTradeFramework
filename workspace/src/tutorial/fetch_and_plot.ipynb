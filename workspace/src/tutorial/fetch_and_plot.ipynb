{
 "cells": [
  {
   "cell_type": "code",
   "execution_count": null,
   "metadata": {},
   "outputs": [],
   "source": [
    "import ccxt\n",
    "import pandas\n",
    "import matplotlib\n",
    "import datetime\n",
    "import calendar"
   ]
  },
  {
   "cell_type": "code",
   "execution_count": null,
   "metadata": {},
   "outputs": [],
   "source": [
    "SYMBOL = \"BTC/USDT\"\n",
    "TIME_FRAME = \"1m\"\n",
    "# 現在時刻のUTC naiveオブジェクト\n",
    "now = datetime.datetime.now(datetime.timezone.utc)\n",
    "\n",
    "# UTC naiveオブジェクト -> UnixTime\n",
    "unixtime = calendar.timegm(now.utctimetuple())\n",
    "\n",
    "# 5分前のUnixTime(ミリ秒)\n",
    "since = (unixtime - 60 * 5) * 1000\n",
    "LIMIT = 30"
   ]
  },
  {
   "cell_type": "code",
   "execution_count": null,
   "metadata": {},
   "outputs": [],
   "source": [
    "exchange = ccxt.bybit()\n",
    "tickers = exchange.fetch_ohlcv(symbol=SYMBOL, timeframe=TIME_FRAME, since=since, limit=LIMIT)"
   ]
  },
  {
   "cell_type": "code",
   "execution_count": null,
   "metadata": {},
   "outputs": [],
   "source": [
    "COLUMNS = [\"date\", \"open\", \"high\", \"low\", \"close\", \"volume\"]\n",
    "\n",
    "chart = pandas.DataFrame(tickers, columns=COLUMNS)\n",
    "chart = chart.drop(columns=\"volume\", axis=1)\n",
    "chart[\"date\"] = pandas.to_datetime(chart[\"date\"], unit=\"ms\").dt.tz_localize(\"UTC\").dt.tz_convert(\"Asia/Tokyo\")\n",
    "chart.set_index(\"date\", inplace=True)\n",
    "chart.head()"
   ]
  },
  {
   "cell_type": "code",
   "execution_count": null,
   "metadata": {},
   "outputs": [],
   "source": [
    "chart.plot()"
   ]
  }
 ],
 "metadata": {
  "kernelspec": {
   "display_name": "Python 3",
   "language": "python",
   "name": "python3"
  },
  "language_info": {
   "codemirror_mode": {
    "name": "ipython",
    "version": 3
   },
   "file_extension": ".py",
   "mimetype": "text/x-python",
   "name": "python",
   "nbconvert_exporter": "python",
   "pygments_lexer": "ipython3",
   "version": "3.10.6"
  }
 },
 "nbformat": 4,
 "nbformat_minor": 2
}
