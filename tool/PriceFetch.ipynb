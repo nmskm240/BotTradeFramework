{
 "cells": [
  {
   "cell_type": "markdown",
   "metadata": {},
   "source": [
    "### 参照設定"
   ]
  },
  {
   "cell_type": "code",
   "execution_count": 1,
   "metadata": {
    "dotnet_interactive": {
     "language": "csharp"
    },
    "polyglot_notebook": {
     "kernelName": "csharp"
    },
    "vscode": {
     "languageId": "polyglot-notebook"
    }
   },
   "outputs": [
    {
     "data": {
      "text/html": [
       "<div><div></div><div></div><div><strong>Installed Packages</strong><ul><li><span>ccxt, 4.2.85</span></li><li><span>Microsoft.Data.Sqlite, 8.0.3</span></li></ul></div></div>"
      ]
     },
     "metadata": {},
     "output_type": "display_data"
    }
   ],
   "source": [
    "#r \"nuget:Microsoft.Data.Sqlite,8.0.3\"\n",
    "#r \"nuget:ccxt,4.2.85\"\n",
    "#r \"/workspace/src/Common/obj/Debug/net8.0/Common.dll\"\n",
    "#r \"/workspace/src/Domain/obj/Debug/net8.0/Domain.dll\"\n",
    "#r \"/workspace/src/Infra/obj/Debug/net8.0/Infra.dll\"\n",
    "\n",
    "using Microsoft.Extensions.Logging;\n",
    "using BotTrade.Infra;\n",
    "using BotTrade.Infra.Exchanges;\n",
    "using BotTrade.Domain;\n",
    "using BotTrade.Domain.Strategies;\n"
   ]
  },
  {
   "cell_type": "markdown",
   "metadata": {},
   "source": [
    "### 設定"
   ]
  },
  {
   "cell_type": "code",
   "execution_count": 2,
   "metadata": {
    "dotnet_interactive": {
     "language": "csharp"
    },
    "polyglot_notebook": {
     "kernelName": "csharp"
    },
    "vscode": {
     "languageId": "polyglot-notebook"
    }
   },
   "outputs": [],
   "source": [
    "var setting = new ExchangeSetting() \n",
    "{ \n",
    "    Place = ExchangePlace.Bitfinex, \n",
    "    Symbol = Symbol.Spot_BTCUSD\n",
    "};\n"
   ]
  },
  {
   "cell_type": "markdown",
   "metadata": {},
   "source": [
    "### DB更新"
   ]
  },
  {
   "cell_type": "code",
   "execution_count": 3,
   "metadata": {
    "dotnet_interactive": {
     "language": "csharp"
    },
    "polyglot_notebook": {
     "kernelName": "csharp"
    },
    "vscode": {
     "languageId": "polyglot-notebook"
    }
   },
   "outputs": [
    {
     "name": "stdout",
     "output_type": "stream",
     "text": [
      "info: BotTrade.Infra.PastCandleRepository[0]\n",
      "      前回更新時: 1721049480000\n",
      "info: BotTrade.Infra.PastCandleRepository[0]\n",
      "      True\n",
      "info: BotTrade.Infra.PastCandleRepository[0]\n",
      "      Fetched since: 07/14/2024 20:42:23 +00:00, count: 3\n",
      "info: BotTrade.Infra.PastCandleRepository[0]\n",
      "      データベース更新完了\n"
     ]
    }
   ],
   "source": [
    "var factory = LoggerFactory.Create(builder => \n",
    "{\n",
    "    builder.AddConsole();\n",
    "});\n",
    "var logger = factory.CreateLogger<PastCandleRepository>();\n",
    "var repository = new PastCandleRepository(setting, logger);\n",
    "\n",
    "await repository.Fetch();\n"
   ]
  },
  {
   "cell_type": "markdown",
   "metadata": {},
   "source": [
    "### バックアップ作成"
   ]
  },
  {
   "cell_type": "code",
   "execution_count": 4,
   "metadata": {
    "dotnet_interactive": {
     "language": "pwsh"
    },
    "polyglot_notebook": {
     "kernelName": "pwsh"
    },
    "vscode": {
     "languageId": "polyglot-notebook"
    }
   },
   "outputs": [],
   "source": [
    "#!set --value @csharp:setting --name setting\n",
    "$place = $null\n",
    "switch($setting.RootElement.GetProperty(\"Place\").GetInt64()) {\n",
    "    0 { $place = \"Bybit\" }\n",
    "#   1 { $place = \"BybitTestnet\" }\n",
    "    2 { $place = \"Binance\" }\n",
    "#   3 { $place = \"BinanceTestnet\" }\n",
    "    4 { $place = \"Bitfinex\" }\n",
    "    5 { $place = \"Bitfinex2\"}\n",
    "    6 { $place = \"Bitmex\" }\n",
    "    7 { $place = \"Bitbank\" }\n",
    "    default { echo \"不明な取引所のためバックアップを行いません\" }\n",
    "}\n",
    "if($place -eq $null) {\n",
    "    return $null\n",
    "}\n",
    "\n",
    "$data_dir = \"/workspace/data\"\n",
    "$db_file = \"{0}/{1}.sqlite3\" -f $data_dir, $place\n",
    "$backup_file = \"{0}/backup/{1}.backup\" -f $data_dir, $place\n",
    "\n",
    "sqlite3 $db_file .dump > $backup_file\n"
   ]
  }
 ],
 "metadata": {
  "kernelspec": {
   "display_name": ".NET (C#)",
   "language": "C#",
   "name": ".net-csharp"
  },
  "language_info": {
   "name": "csharp"
  },
  "polyglot_notebook": {
   "kernelInfo": {
    "defaultKernelName": "csharp",
    "items": [
     {
      "aliases": [],
      "name": "csharp"
     }
    ]
   }
  }
 },
 "nbformat": 4,
 "nbformat_minor": 2
}
