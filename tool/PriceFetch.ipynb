{
 "cells": [
  {
   "cell_type": "code",
   "execution_count": 1,
   "metadata": {
    "dotnet_interactive": {
     "language": "csharp"
    },
    "polyglot_notebook": {
     "kernelName": "csharp"
    },
    "vscode": {
     "languageId": "polyglot-notebook"
    }
   },
   "outputs": [
    {
     "data": {
      "text/html": [
       "<div><div></div><div></div><div><strong>Installed Packages</strong><ul><li><span>ccxt, 4.2.85</span></li><li><span>Microsoft.Data.Sqlite, 8.0.3</span></li><li><span>ReactiveProperty, 9.5.0</span></li><li><span>ScottPlot, 5.0.30</span></li><li><span>Skender.Stock.Indicators, 2.5.0</span></li></ul></div></div>"
      ]
     },
     "metadata": {},
     "output_type": "display_data"
    },
    {
     "data": {
      "text/plain": [
       "Loading extensions from `/root/.nuget/packages/skiasharp/2.88.8/interactive-extensions/dotnet/SkiaSharp.DotNet.Interactive.dll`"
      ]
     },
     "metadata": {},
     "output_type": "display_data"
    }
   ],
   "source": [
    "#r \"nuget:Microsoft.Data.Sqlite,8.0.3\"\n",
    "#r \"nuget:Skender.Stock.Indicators,2.5.0\"\n",
    "#r \"nuget:ccxt,4.2.85\"\n",
    "#r \"nuget:ScottPlot,5.0.30\"\n",
    "#r \"nuget:ReactiveProperty,9.5.0\"\n",
    "#r \"/workspace/src/Common/obj/Debug/net8.0/Common.dll\"\n",
    "#r \"/workspace/src/Domain/obj/Debug/net8.0/Domain.dll\"\n",
    "#r \"/workspace/src/Infra/obj/Debug/net8.0/Infra.dll\"\n",
    "\n",
    "using Microsoft.Extensions.Logging;\n",
    "using BotTrade.Infra;\n",
    "using BotTrade.Infra.Exchanges;\n",
    "using BotTrade.Domain;\n",
    "using BotTrade.Domain.Strategies;\n"
   ]
  },
  {
   "cell_type": "code",
   "execution_count": 2,
   "metadata": {
    "vscode": {
     "languageId": "polyglot-notebook"
    }
   },
   "outputs": [],
   "source": [
    "var setting = new Setting.Exchange() \n",
    "{ \n",
    "    Place = ExchangePlace.Bybit, \n",
    "    Symbol = Symbol.Future_BTCUSDT \n",
    "};\n"
   ]
  },
  {
   "cell_type": "code",
   "execution_count": 3,
   "metadata": {
    "dotnet_interactive": {
     "language": "csharp"
    },
    "polyglot_notebook": {
     "kernelName": "csharp"
    },
    "vscode": {
     "languageId": "polyglot-notebook"
    }
   },
   "outputs": [],
   "source": [
    "var logger = new LoggerFactory().CreateLogger<PastCandleRepository>();\n",
    "var repository = new PastCandleRepository(setting, logger);\n",
    "\n",
    "await repository.Fetch();\n"
   ]
  }
 ],
 "metadata": {
  "kernelspec": {
   "display_name": ".NET (C#)",
   "language": "C#",
   "name": ".net-csharp"
  },
  "language_info": {
   "name": "csharp"
  },
  "polyglot_notebook": {
   "kernelInfo": {
    "defaultKernelName": "csharp",
    "items": [
     {
      "aliases": [],
      "name": "csharp"
     }
    ]
   }
  }
 },
 "nbformat": 4,
 "nbformat_minor": 2
}
