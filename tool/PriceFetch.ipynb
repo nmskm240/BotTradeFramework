{
 "cells": [
  {
   "cell_type": "markdown",
   "metadata": {},
   "source": [
    "### 参照設定"
   ]
  },
  {
   "cell_type": "code",
   "execution_count": 1,
   "metadata": {
    "dotnet_interactive": {
     "language": "csharp"
    },
    "polyglot_notebook": {
     "kernelName": "csharp"
    },
    "vscode": {
     "languageId": "polyglot-notebook"
    }
   },
   "outputs": [
    {
     "data": {
      "text/html": [
       "<div><div></div><div></div><div><strong>Installed Packages</strong><ul><li><span>ccxt, 4.2.85</span></li><li><span>Microsoft.Data.Sqlite, 8.0.3</span></li></ul></div></div>"
      ]
     },
     "metadata": {},
     "output_type": "display_data"
    }
   ],
   "source": [
    "#r \"nuget:Microsoft.Data.Sqlite,8.0.3\"\n",
    "#r \"nuget:ccxt,4.2.85\"\n",
    "#r \"/workspace/src/Common/obj/Debug/net8.0/Common.dll\"\n",
    "#r \"/workspace/src/Domain/obj/Debug/net8.0/Domain.dll\"\n",
    "#r \"/workspace/src/Infra/obj/Debug/net8.0/Infra.dll\"\n",
    "\n",
    "using Microsoft.Extensions.Logging;\n",
    "using BotTrade.Infra;\n",
    "using BotTrade.Infra.Repositories;\n",
    "using BotTrade.Domain;\n",
    "using BotTrade.Domain.Settings;\n"
   ]
  },
  {
   "cell_type": "markdown",
   "metadata": {},
   "source": [
    "### 設定"
   ]
  },
  {
   "cell_type": "code",
   "execution_count": 2,
   "metadata": {
    "dotnet_interactive": {
     "language": "csharp"
    },
    "polyglot_notebook": {
     "kernelName": "csharp"
    },
    "vscode": {
     "languageId": "polyglot-notebook"
    }
   },
   "outputs": [],
   "source": [
    "var setting = new ExchangeSetting() \n",
    "{ \n",
    "    Place = ExchangePlace.Bybit, \n",
    "    Symbol = Symbol.Future_ETHUSDT\n",
    "};\n"
   ]
  },
  {
   "cell_type": "markdown",
   "metadata": {},
   "source": [
    "### DB更新"
   ]
  },
  {
   "cell_type": "code",
   "execution_count": 3,
   "metadata": {
    "dotnet_interactive": {
     "language": "csharp"
    },
    "polyglot_notebook": {
     "kernelName": "csharp"
    },
    "vscode": {
     "languageId": "polyglot-notebook"
    }
   },
   "outputs": [
    {
     "name": "stdout",
     "output_type": "stream",
     "text": [
      "info: BotTrade.Infra.Repositories.PastCandleRepository[0]\n",
      "      バックアップ作成\n",
      "info: BotTrade.Infra.Repositories.PastCandleRepository[0]\n",
      "      1000000\n",
      "info: BotTrade.Infra.Repositories.PastCandleRepository[0]\n",
      "      1000000\n",
      "info: BotTrade.Infra.Repositories.PastCandleRepository[0]\n",
      "      1000000\n",
      "info: BotTrade.Infra.Repositories.PastCandleRepository[0]\n",
      "      1000000\n",
      "info: BotTrade.Infra.Repositories.PastCandleRepository[0]\n",
      "      1000000\n",
      "info: BotTrade.Infra.Repositories.PastCandleRepository[0]\n",
      "      1000000\n",
      "fail: BotTrade.Infra.Repositories.PastCandleRepository[0]\n",
      "info: BotTrade.Infra.Repositories.PastCandleRepository[0]\n",
      "      バックアップ成功\n"
     ]
    }
   ],
   "source": [
    "var factory = LoggerFactory.Create(builder => \n",
    "{\n",
    "    builder.AddConsole();\n",
    "});\n",
    "var logger = factory.CreateLogger<PastCandleRepository>();\n",
    "var repository = new PastCandleRepository(setting, logger);\n",
    "\n",
    "await repository.Fetch();\n",
    "await repository.Backup();\n"
   ]
  }
 ],
 "metadata": {
  "kernelspec": {
   "display_name": ".NET (C#)",
   "language": "C#",
   "name": ".net-csharp"
  },
  "language_info": {
   "name": "csharp"
  },
  "polyglot_notebook": {
   "kernelInfo": {
    "defaultKernelName": "csharp",
    "items": [
     {
      "aliases": [],
      "name": "csharp"
     }
    ]
   }
  }
 },
 "nbformat": 4,
 "nbformat_minor": 2
}
