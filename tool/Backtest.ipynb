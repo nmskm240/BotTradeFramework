{
 "cells": [
  {
   "cell_type": "code",
   "execution_count": null,
   "metadata": {
    "dotnet_interactive": {
     "language": "csharp"
    },
    "polyglot_notebook": {
     "kernelName": "csharp"
    },
    "vscode": {
     "languageId": "polyglot-notebook"
    }
   },
   "outputs": [],
   "source": [
    "#r \"nuget:Microsoft.Data.Sqlite,8.0.3\"\n",
    "#r \"nuget:Skender.Stock.Indicators,2.5.0\"\n",
    "#r \"nuget:ccxt,4.2.85\"\n",
    "#r \"nuget:OxyPlot.Core,2.1.2\"\n",
    "#r \"/workspaces/sandbox/src/Common/obj/Debug/net8.0/Common.dll\"\n",
    "#r \"/workspaces/sandbox/src/Domain/obj/Debug/net8.0/Domain.dll\"\n",
    "#r \"/workspaces/sandbox/src/Infra/obj/Debug/net8.0/Infra.dll\"\n"
   ]
  },
  {
   "cell_type": "code",
   "execution_count": null,
   "metadata": {
    "dotnet_interactive": {
     "language": "csharp"
    },
    "polyglot_notebook": {
     "kernelName": "csharp"
    },
    "vscode": {
     "languageId": "polyglot-notebook"
    }
   },
   "outputs": [],
   "source": [
    "using BotTrade.Infra;\n",
    "using BotTrade.Infra.Exchange;\n",
    "using BotTrade.Domain;\n",
    "using BotTrade.Domain.Strategy;\n",
    "\n",
    "var parameter = new MACrossParameter(Symbol.Spot_BTCUSDT, Timeframe.OneDay, 5, 10);\n",
    "var container = new BacktestContainer<MACross, MACrossParameter>(parameter);\n",
    "var strategy = container.Resolve();\n",
    "\n",
    "strategy.MightStart(100);\n",
    "\n",
    "Console.WriteLine(strategy.Capital);\n"
   ]
  }
 ],
 "metadata": {
  "language_info": {
   "name": "csharp"
  }
 },
 "nbformat": 4,
 "nbformat_minor": 2
}
