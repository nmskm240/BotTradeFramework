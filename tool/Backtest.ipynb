{
 "cells": [
  {
   "cell_type": "markdown",
   "metadata": {},
   "source": [
    "### 参照設定"
   ]
  },
  {
   "cell_type": "code",
   "execution_count": 5,
   "metadata": {
    "dotnet_interactive": {
     "language": "csharp"
    },
    "polyglot_notebook": {
     "kernelName": "csharp"
    },
    "vscode": {
     "languageId": "polyglot-notebook"
    }
   },
   "outputs": [
    {
     "data": {
      "text/html": [
       "<div><div></div><div></div><div><strong>Installed Packages</strong><ul><li><span>ccxt, 4.2.85</span></li><li><span>Microsoft.Data.Sqlite, 8.0.3</span></li><li><span>ReactiveProperty, 9.5.0</span></li><li><span>ScottPlot, 5.0.30</span></li><li><span>Skender.Stock.Indicators, 2.5.0</span></li><li><span>SkiaSharp.NativeAssets.Linux.NoDependencies, 2.88.8</span></li></ul></div></div>"
      ]
     },
     "metadata": {},
     "output_type": "display_data"
    }
   ],
   "source": [
    "#r \"nuget:Microsoft.Data.Sqlite,8.0.3\"\n",
    "#r \"nuget:Skender.Stock.Indicators,2.5.0\"\n",
    "#r \"nuget:ccxt,4.2.85\"\n",
    "#r \"nuget:ScottPlot,5.0.30\"\n",
    "#r \"nuget:ReactiveProperty,9.5.0\"\n",
    "#r \"nuget:SkiaSharp.NativeAssets.Linux.NoDependencies\"\n",
    "#r \"/workspace/src/Application/obj/Debug/net8.0/Application.dll\"\n",
    "#r \"/workspace/src/Common/obj/Debug/net8.0/Common.dll\"\n",
    "#r \"/workspace/src/Domain/obj/Debug/net8.0/Domain.dll\"\n",
    "#r \"/workspace/src/Infra/obj/Debug/net8.0/Infra.dll\"\n",
    "\n",
    "using BotTrade.Infra;\n",
    "using BotTrade.Infra.Exchanges;\n",
    "using BotTrade.Infra.Factories;\n",
    "using BotTrade.Domain;\n",
    "using BotTrade.Domain.Settings;\n",
    "using BotTrade.Domain.Strategies;\n",
    "using BotTrade.Application.Usecases;\n",
    "using ScottPlot;\n",
    "using Microsoft.DotNet.Interactive.Formatting;\n"
   ]
  },
  {
   "cell_type": "markdown",
   "metadata": {},
   "source": [
    "### formatの設定\n",
    "chart画像の大きさ設定もここ"
   ]
  },
  {
   "cell_type": "code",
   "execution_count": 6,
   "metadata": {
    "dotnet_interactive": {
     "language": "csharp"
    },
    "polyglot_notebook": {
     "kernelName": "csharp"
    },
    "vscode": {
     "languageId": "polyglot-notebook"
    }
   },
   "outputs": [],
   "source": [
    "Formatter.Register(typeof(ScottPlot.Plot), (p, w) => \n",
    "    w.Write(((ScottPlot.Plot)p).GetImageHtml(1600, 1200)), HtmlFormatter.MimeType);\n"
   ]
  },
  {
   "cell_type": "markdown",
   "metadata": {},
   "source": [
    "### パラメータ設定"
   ]
  },
  {
   "cell_type": "code",
   "execution_count": 7,
   "metadata": {
    "dotnet_interactive": {
     "language": "csharp"
    },
    "polyglot_notebook": {
     "kernelName": "csharp"
    },
    "vscode": {
     "languageId": "polyglot-notebook"
    }
   },
   "outputs": [],
   "source": [
    "var setting = new BotSetting()\n",
    "{\n",
    "    Lot = 1,\n",
    "    Exchange = new ExchangeSetting()\n",
    "    {\n",
    "        Place = ExchangePlace.Binance,\n",
    "        Symbol = Symbol.Spot_BTCUSDT,\n",
    "        Range = new ExchangeSetting.DateTimeRange()\n",
    "        {\n",
    "            EndAt = new DateTimeOffset(2020, 12, 31, 23, 59, 59, 0, TimeSpan.Zero),\n",
    "        }\n",
    "    },\n",
    "    Strategies = \n",
    "    [\n",
    "        new StrategySetting() \n",
    "        {\n",
    "            Kind = StrategyKind.MACross,\n",
    "            Timeframe = Timeframe.OneMinute,\n",
    "            Parameters = [ 10, 50 ],\n",
    "        },\n",
    "    ],\n",
    "};\n",
    "\n"
   ]
  },
  {
   "cell_type": "markdown",
   "metadata": {},
   "source": [
    "### Bot稼働"
   ]
  },
  {
   "cell_type": "code",
   "execution_count": 8,
   "metadata": {
    "dotnet_interactive": {
     "language": "csharp"
    },
    "polyglot_notebook": {
     "kernelName": "csharp"
    },
    "vscode": {
     "languageId": "polyglot-notebook"
    }
   },
   "outputs": [
    {
     "name": "stdout",
     "output_type": "stream",
     "text": [
      "info: BotTrade.Domain.Bot[0]\n",
      "      Bot start at [(10, 50)] in Binance_BTC/USDT_1m\n"
     ]
    },
    {
     "data": {
      "text/html": [
       "<details open=\"open\" class=\"dni-treeview\"><summary><span class=\"dni-code-hint\"><code>BotTrade.Domain.StrategyReport</code></span></summary><div><table><thead><tr></tr></thead><tbody><tr><td>Trades</td><td><table><thead><tr><th><i>index</i></th><th>value</th></tr></thead><tbody><tr><td>0</td><td><details class=\"dni-treeview\"><summary><span class=\"dni-code-hint\"><code>BotTrade.Domain.Position</code></span></summary><div><table><thead><tr></tr></thead><tbody><tr><td>Id</td><td><div class=\"dni-plaintext\"><pre>3327cd96-44f2-4078-8377-78dbbcbf15dd</pre></div></td></tr><tr><td>Symbol</td><td><span>Spot_BTCUSDT</span></td></tr><tr><td>Type</td><td><span>Short</span></td></tr><tr><td>Quantity</td><td><div class=\"dni-plaintext\"><pre>1</pre></div></td></tr><tr><td>Entry</td><td><div class=\"dni-plaintext\"><pre>8248.25</pre></div></td></tr><tr><td>EntryAt</td><td><span>2018-02-09 11:05:00Z</span></td></tr><tr><td>Exit</td><td><div class=\"dni-plaintext\"><pre>8245.0</pre></div></td></tr><tr><td>ExitAt</td><td><span>2018-02-09 11:06:00Z</span></td></tr><tr><td>Status</td><td><span>Close</span></td></tr><tr><td>PnL</td><td><div class=\"dni-plaintext\"><pre>-3.25</pre></div></td></tr><tr><td>IsWin</td><td><div class=\"dni-plaintext\"><pre>False</pre></div></td></tr></tbody></table></div></details></td></tr><tr><td>1</td><td><details class=\"dni-treeview\"><summary><span class=\"dni-code-hint\"><code>BotTrade.Domain.Position</code></span></summary><div><table><thead><tr></tr></thead><tbody><tr><td>Id</td><td><div class=\"dni-plaintext\"><pre>e81cd9ff-8366-4ed1-8f57-8333a2d20787</pre></div></td></tr><tr><td>Symbol</td><td><span>Spot_BTCUSDT</span></td></tr><tr><td>Type</td><td><span>Short</span></td></tr><tr><td>Quantity</td><td><div class=\"dni-plaintext\"><pre>1</pre></div></td></tr><tr><td>Entry</td><td><div class=\"dni-plaintext\"><pre>8239.13</pre></div></td></tr><tr><td>EntryAt</td><td><span>2018-02-09 11:08:00Z</span></td></tr><tr><td>Exit</td><td><div class=\"dni-plaintext\"><pre>8281.51</pre></div></td></tr><tr><td>ExitAt</td><td><span>2018-02-09 11:16:00Z</span></td></tr><tr><td>Status</td><td><span>Close</span></td></tr><tr><td>PnL</td><td><div class=\"dni-plaintext\"><pre>42.38</pre></div></td></tr><tr><td>IsWin</td><td><div class=\"dni-plaintext\"><pre>True</pre></div></td></tr></tbody></table></div></details></td></tr><tr><td>2</td><td><details class=\"dni-treeview\"><summary><span class=\"dni-code-hint\"><code>BotTrade.Domain.Position</code></span></summary><div><table><thead><tr></tr></thead><tbody><tr><td>Id</td><td><div class=\"dni-plaintext\"><pre>4a71f434-3f01-4f11-9595-f52638b41fac</pre></div></td></tr><tr><td>Symbol</td><td><span>Spot_BTCUSDT</span></td></tr><tr><td>Type</td><td><span>Short</span></td></tr><tr><td>Quantity</td><td><div class=\"dni-plaintext\"><pre>1</pre></div></td></tr><tr><td>Entry</td><td><div class=\"dni-plaintext\"><pre>8280.11</pre></div></td></tr><tr><td>EntryAt</td><td><span>2018-02-09 11:59:00Z</span></td></tr><tr><td>Exit</td><td><div class=\"dni-plaintext\"><pre>8280.0</pre></div></td></tr><tr><td>ExitAt</td><td><span>2018-02-09 13:07:00Z</span></td></tr><tr><td>Status</td><td><span>Close</span></td></tr><tr><td>PnL</td><td><div class=\"dni-plaintext\"><pre>-0.11</pre></div></td></tr><tr><td>IsWin</td><td><div class=\"dni-plaintext\"><pre>False</pre></div></td></tr></tbody></table></div></details></td></tr><tr><td>3</td><td><details class=\"dni-treeview\"><summary><span class=\"dni-code-hint\"><code>BotTrade.Domain.Position</code></span></summary><div><table><thead><tr></tr></thead><tbody><tr><td>Id</td><td><div class=\"dni-plaintext\"><pre>bea53644-4e8d-4555-98da-ca12173a0f08</pre></div></td></tr><tr><td>Symbol</td><td><span>Spot_BTCUSDT</span></td></tr><tr><td>Type</td><td><span>Short</span></td></tr><tr><td>Quantity</td><td><div class=\"dni-plaintext\"><pre>1</pre></div></td></tr><tr><td>Entry</td><td><div class=\"dni-plaintext\"><pre>8397.93</pre></div></td></tr><tr><td>EntryAt</td><td><span>2018-02-09 15:11:00Z</span></td></tr><tr><td>Exit</td><td><div class=\"dni-plaintext\"><pre>8382.0</pre></div></td></tr><tr><td>ExitAt</td><td><span>2018-02-09 16:17:00Z</span></td></tr><tr><td>Status</td><td><span>Close</span></td></tr><tr><td>PnL</td><td><div class=\"dni-plaintext\"><pre>-15.93</pre></div></td></tr><tr><td>IsWin</td><td><div class=\"dni-plaintext\"><pre>False</pre></div></td></tr></tbody></table></div></details></td></tr><tr><td>4</td><td><details class=\"dni-treeview\"><summary><span class=\"dni-code-hint\"><code>BotTrade.Domain.Position</code></span></summary><div><table><thead><tr></tr></thead><tbody><tr><td>Id</td><td><div class=\"dni-plaintext\"><pre>693598bd-cf9b-4ab7-8851-f911c5bd7434</pre></div></td></tr><tr><td>Symbol</td><td><span>Spot_BTCUSDT</span></td></tr><tr><td>Type</td><td><span>Short</span></td></tr><tr><td>Quantity</td><td><div class=\"dni-plaintext\"><pre>1</pre></div></td></tr><tr><td>Entry</td><td><div class=\"dni-plaintext\"><pre>8389.94</pre></div></td></tr><tr><td>EntryAt</td><td><span>2018-02-09 16:51:00Z</span></td></tr><tr><td>Exit</td><td><div class=\"dni-plaintext\"><pre>8403.46</pre></div></td></tr><tr><td>ExitAt</td><td><span>2018-02-09 17:09:00Z</span></td></tr><tr><td>Status</td><td><span>Close</span></td></tr><tr><td>PnL</td><td><div class=\"dni-plaintext\"><pre>13.52</pre></div></td></tr><tr><td>IsWin</td><td><div class=\"dni-plaintext\"><pre>True</pre></div></td></tr></tbody></table></div></details></td></tr><tr><td>5</td><td><details class=\"dni-treeview\"><summary><span class=\"dni-code-hint\"><code>BotTrade.Domain.Position</code></span></summary><div><table><thead><tr></tr></thead><tbody><tr><td>Id</td><td><div class=\"dni-plaintext\"><pre>17da8b33-b670-48c8-a432-5de6dde7be2f</pre></div></td></tr><tr><td>Symbol</td><td><span>Spot_BTCUSDT</span></td></tr><tr><td>Type</td><td><span>Short</span></td></tr><tr><td>Quantity</td><td><div class=\"dni-plaintext\"><pre>1</pre></div></td></tr><tr><td>Entry</td><td><div class=\"dni-plaintext\"><pre>8619.2</pre></div></td></tr><tr><td>EntryAt</td><td><span>2018-02-09 18:27:00Z</span></td></tr><tr><td>Exit</td><td><div class=\"dni-plaintext\"><pre>8671.32</pre></div></td></tr><tr><td>ExitAt</td><td><span>2018-02-09 19:03:00Z</span></td></tr><tr><td>Status</td><td><span>Close</span></td></tr><tr><td>PnL</td><td><div class=\"dni-plaintext\"><pre>52.12</pre></div></td></tr><tr><td>IsWin</td><td><div class=\"dni-plaintext\"><pre>True</pre></div></td></tr></tbody></table></div></details></td></tr><tr><td>6</td><td><details class=\"dni-treeview\"><summary><span class=\"dni-code-hint\"><code>BotTrade.Domain.Position</code></span></summary><div><table><thead><tr></tr></thead><tbody><tr><td>Id</td><td><div class=\"dni-plaintext\"><pre>930be2f4-2e48-41c3-86d8-0eb0a4b74316</pre></div></td></tr><tr><td>Symbol</td><td><span>Spot_BTCUSDT</span></td></tr><tr><td>Type</td><td><span>Short</span></td></tr><tr><td>Quantity</td><td><div class=\"dni-plaintext\"><pre>1</pre></div></td></tr><tr><td>Entry</td><td><div class=\"dni-plaintext\"><pre>8619.99</pre></div></td></tr><tr><td>EntryAt</td><td><span>2018-02-09 19:45:00Z</span></td></tr><tr><td>Exit</td><td><div class=\"dni-plaintext\"><pre>8708.51</pre></div></td></tr><tr><td>ExitAt</td><td><span>2018-02-09 20:07:00Z</span></td></tr><tr><td>Status</td><td><span>Close</span></td></tr><tr><td>PnL</td><td><div class=\"dni-plaintext\"><pre>88.52</pre></div></td></tr><tr><td>IsWin</td><td><div class=\"dni-plaintext\"><pre>True</pre></div></td></tr></tbody></table></div></details></td></tr><tr><td>7</td><td><details class=\"dni-treeview\"><summary><span class=\"dni-code-hint\"><code>BotTrade.Domain.Position</code></span></summary><div><table><thead><tr></tr></thead><tbody><tr><td>Id</td><td><div class=\"dni-plaintext\"><pre>4d2a7228-aad9-48b6-807b-e6adb533eda8</pre></div></td></tr><tr><td>Symbol</td><td><span>Spot_BTCUSDT</span></td></tr><tr><td>Type</td><td><span>Short</span></td></tr><tr><td>Quantity</td><td><div class=\"dni-plaintext\"><pre>1</pre></div></td></tr><tr><td>Entry</td><td><div class=\"dni-plaintext\"><pre>8641.99</pre></div></td></tr><tr><td>EntryAt</td><td><span>2018-02-09 20:21:00Z</span></td></tr><tr><td>Exit</td><td><div class=\"dni-plaintext\"><pre>8580.29</pre></div></td></tr><tr><td>ExitAt</td><td><span>2018-02-09 21:08:00Z</span></td></tr><tr><td>Status</td><td><span>Close</span></td></tr><tr><td>PnL</td><td><div class=\"dni-plaintext\"><pre>-61.70</pre></div></td></tr><tr><td>IsWin</td><td><div class=\"dni-plaintext\"><pre>False</pre></div></td></tr></tbody></table></div></details></td></tr><tr><td>8</td><td><details class=\"dni-treeview\"><summary><span class=\"dni-code-hint\"><code>BotTrade.Domain.Position</code></span></summary><div><table><thead><tr></tr></thead><tbody><tr><td>Id</td><td><div class=\"dni-plaintext\"><pre>3a8b842b-6308-48d0-a8fe-9d9a3fbe7b78</pre></div></td></tr><tr><td>Symbol</td><td><span>Spot_BTCUSDT</span></td></tr><tr><td>Type</td><td><span>Short</span></td></tr><tr><td>Quantity</td><td><div class=\"dni-plaintext\"><pre>1</pre></div></td></tr><tr><td>Entry</td><td><div class=\"dni-plaintext\"><pre>8531.99</pre></div></td></tr><tr><td>EntryAt</td><td><span>2018-02-09 21:13:00Z</span></td></tr><tr><td>Exit</td><td><div class=\"dni-plaintext\"><pre>8572.99</pre></div></td></tr><tr><td>ExitAt</td><td><span>2018-02-09 21:52:00Z</span></td></tr><tr><td>Status</td><td><span>Close</span></td></tr><tr><td>PnL</td><td><div class=\"dni-plaintext\"><pre>41.00</pre></div></td></tr><tr><td>IsWin</td><td><div class=\"dni-plaintext\"><pre>True</pre></div></td></tr></tbody></table></div></details></td></tr><tr><td>9</td><td><details class=\"dni-treeview\"><summary><span class=\"dni-code-hint\"><code>BotTrade.Domain.Position</code></span></summary><div><table><thead><tr></tr></thead><tbody><tr><td>Id</td><td><div class=\"dni-plaintext\"><pre>3e517324-efea-4702-8f8a-d5e15a10bb7e</pre></div></td></tr><tr><td>Symbol</td><td><span>Spot_BTCUSDT</span></td></tr><tr><td>Type</td><td><span>Short</span></td></tr><tr><td>Quantity</td><td><div class=\"dni-plaintext\"><pre>1</pre></div></td></tr><tr><td>Entry</td><td><div class=\"dni-plaintext\"><pre>8480.84</pre></div></td></tr><tr><td>EntryAt</td><td><span>2018-02-09 22:11:00Z</span></td></tr><tr><td>Exit</td><td><div class=\"dni-plaintext\"><pre>8509.99</pre></div></td></tr><tr><td>ExitAt</td><td><span>2018-02-09 22:41:00Z</span></td></tr><tr><td>Status</td><td><span>Close</span></td></tr><tr><td>PnL</td><td><div class=\"dni-plaintext\"><pre>29.15</pre></div></td></tr><tr><td>IsWin</td><td><div class=\"dni-plaintext\"><pre>True</pre></div></td></tr></tbody></table></div></details></td></tr><tr><td>10</td><td><details class=\"dni-treeview\"><summary><span class=\"dni-code-hint\"><code>BotTrade.Domain.Position</code></span></summary><div><table><thead><tr></tr></thead><tbody><tr><td>Id</td><td><div class=\"dni-plaintext\"><pre>e8665576-218f-4bfb-9ae9-b0a03b9a4f72</pre></div></td></tr><tr><td>Symbol</td><td><span>Spot_BTCUSDT</span></td></tr><tr><td>Type</td><td><span>Short</span></td></tr><tr><td>Quantity</td><td><div class=\"dni-plaintext\"><pre>1</pre></div></td></tr><tr><td>Entry</td><td><div class=\"dni-plaintext\"><pre>8603.0</pre></div></td></tr><tr><td>EntryAt</td><td><span>2018-02-10 00:05:00Z</span></td></tr><tr><td>Exit</td><td><div class=\"dni-plaintext\"><pre>8705.0</pre></div></td></tr><tr><td>ExitAt</td><td><span>2018-02-10 00:17:00Z</span></td></tr><tr><td>Status</td><td><span>Close</span></td></tr><tr><td>PnL</td><td><div class=\"dni-plaintext\"><pre>102.0</pre></div></td></tr><tr><td>IsWin</td><td><div class=\"dni-plaintext\"><pre>True</pre></div></td></tr></tbody></table></div></details></td></tr><tr><td>11</td><td><details class=\"dni-treeview\"><summary><span class=\"dni-code-hint\"><code>BotTrade.Domain.Position</code></span></summary><div><table><thead><tr></tr></thead><tbody><tr><td>Id</td><td><div class=\"dni-plaintext\"><pre>a3e85345-a44e-4bfc-8c80-436decc25c61</pre></div></td></tr><tr><td>Symbol</td><td><span>Spot_BTCUSDT</span></td></tr><tr><td>Type</td><td><span>Short</span></td></tr><tr><td>Quantity</td><td><div class=\"dni-plaintext\"><pre>1</pre></div></td></tr><tr><td>Entry</td><td><div class=\"dni-plaintext\"><pre>8882.91</pre></div></td></tr><tr><td>EntryAt</td><td><span>2018-02-10 01:29:00Z</span></td></tr><tr><td>Exit</td><td><div class=\"dni-plaintext\"><pre>8900.03</pre></div></td></tr><tr><td>ExitAt</td><td><span>2018-02-10 01:36:00Z</span></td></tr><tr><td>Status</td><td><span>Close</span></td></tr><tr><td>PnL</td><td><div class=\"dni-plaintext\"><pre>17.12</pre></div></td></tr><tr><td>IsWin</td><td><div class=\"dni-plaintext\"><pre>True</pre></div></td></tr></tbody></table></div></details></td></tr><tr><td>12</td><td><details class=\"dni-treeview\"><summary><span class=\"dni-code-hint\"><code>BotTrade.Domain.Position</code></span></summary><div><table><thead><tr></tr></thead><tbody><tr><td>Id</td><td><div class=\"dni-plaintext\"><pre>5b4b0ba0-49ef-4424-bc9b-61d06800e736</pre></div></td></tr><tr><td>Symbol</td><td><span>Spot_BTCUSDT</span></td></tr><tr><td>Type</td><td><span>Short</span></td></tr><tr><td>Quantity</td><td><div class=\"dni-plaintext\"><pre>1</pre></div></td></tr><tr><td>Entry</td><td><div class=\"dni-plaintext\"><pre>8828.19</pre></div></td></tr><tr><td>EntryAt</td><td><span>2018-02-10 01:47:00Z</span></td></tr><tr><td>Exit</td><td><div class=\"dni-plaintext\"><pre>8848.99</pre></div></td></tr><tr><td>ExitAt</td><td><span>2018-02-10 02:19:00Z</span></td></tr><tr><td>Status</td><td><span>Close</span></td></tr><tr><td>PnL</td><td><div class=\"dni-plaintext\"><pre>20.80</pre></div></td></tr><tr><td>IsWin</td><td><div class=\"dni-plaintext\"><pre>True</pre></div></td></tr></tbody></table></div></details></td></tr><tr><td>13</td><td><details class=\"dni-treeview\"><summary><span class=\"dni-code-hint\"><code>BotTrade.Domain.Position</code></span></summary><div><table><thead><tr></tr></thead><tbody><tr><td>Id</td><td><div class=\"dni-plaintext\"><pre>d9a5da59-0d58-4262-81c9-2d25bd289d91</pre></div></td></tr><tr><td>Symbol</td><td><span>Spot_BTCUSDT</span></td></tr><tr><td>Type</td><td><span>Short</span></td></tr><tr><td>Quantity</td><td><div class=\"dni-plaintext\"><pre>1</pre></div></td></tr><tr><td>Entry</td><td><div class=\"dni-plaintext\"><pre>8907.03</pre></div></td></tr><tr><td>EntryAt</td><td><span>2018-02-10 03:51:00Z</span></td></tr><tr><td>Exit</td><td><div class=\"dni-plaintext\"><pre>8835.0</pre></div></td></tr><tr><td>ExitAt</td><td><span>2018-02-10 04:51:00Z</span></td></tr><tr><td>Status</td><td><span>Close</span></td></tr><tr><td>PnL</td><td><div class=\"dni-plaintext\"><pre>-72.03</pre></div></td></tr><tr><td>IsWin</td><td><div class=\"dni-plaintext\"><pre>False</pre></div></td></tr></tbody></table></div></details></td></tr><tr><td>14</td><td><details class=\"dni-treeview\"><summary><span class=\"dni-code-hint\"><code>BotTrade.Domain.Position</code></span></summary><div><table><thead><tr></tr></thead><tbody><tr><td>Id</td><td><div class=\"dni-plaintext\"><pre>d088ebe9-81b8-4677-bf26-0db48cf3efb2</pre></div></td></tr><tr><td>Symbol</td><td><span>Spot_BTCUSDT</span></td></tr><tr><td>Type</td><td><span>Short</span></td></tr><tr><td>Quantity</td><td><div class=\"dni-plaintext\"><pre>1</pre></div></td></tr><tr><td>Entry</td><td><div class=\"dni-plaintext\"><pre>8775.39</pre></div></td></tr><tr><td>EntryAt</td><td><span>2018-02-10 04:58:00Z</span></td></tr><tr><td>Exit</td><td><div class=\"dni-plaintext\"><pre>8818.96</pre></div></td></tr><tr><td>ExitAt</td><td><span>2018-02-10 05:11:00Z</span></td></tr><tr><td>Status</td><td><span>Close</span></td></tr><tr><td>PnL</td><td><div class=\"dni-plaintext\"><pre>43.57</pre></div></td></tr><tr><td>IsWin</td><td><div class=\"dni-plaintext\"><pre>True</pre></div></td></tr></tbody></table></div></details></td></tr><tr><td>15</td><td><details class=\"dni-treeview\"><summary><span class=\"dni-code-hint\"><code>BotTrade.Domain.Position</code></span></summary><div><table><thead><tr></tr></thead><tbody><tr><td>Id</td><td><div class=\"dni-plaintext\"><pre>636322c6-5d63-41f5-8743-8ef949d52575</pre></div></td></tr><tr><td>Symbol</td><td><span>Spot_BTCUSDT</span></td></tr><tr><td>Type</td><td><span>Short</span></td></tr><tr><td>Quantity</td><td><div class=\"dni-plaintext\"><pre>1</pre></div></td></tr><tr><td>Entry</td><td><div class=\"dni-plaintext\"><pre>8839.98</pre></div></td></tr><tr><td>EntryAt</td><td><span>2018-02-10 05:56:00Z</span></td></tr><tr><td>Exit</td><td><div class=\"dni-plaintext\"><pre>8894.39</pre></div></td></tr><tr><td>ExitAt</td><td><span>2018-02-10 06:17:00Z</span></td></tr><tr><td>Status</td><td><span>Close</span></td></tr><tr><td>PnL</td><td><div class=\"dni-plaintext\"><pre>54.41</pre></div></td></tr><tr><td>IsWin</td><td><div class=\"dni-plaintext\"><pre>True</pre></div></td></tr></tbody></table></div></details></td></tr><tr><td>16</td><td><details class=\"dni-treeview\"><summary><span class=\"dni-code-hint\"><code>BotTrade.Domain.Position</code></span></summary><div><table><thead><tr></tr></thead><tbody><tr><td>Id</td><td><div class=\"dni-plaintext\"><pre>ffe21ea4-01d2-490e-8a30-696489ca5c5e</pre></div></td></tr><tr><td>Symbol</td><td><span>Spot_BTCUSDT</span></td></tr><tr><td>Type</td><td><span>Short</span></td></tr><tr><td>Quantity</td><td><div class=\"dni-plaintext\"><pre>1</pre></div></td></tr><tr><td>Entry</td><td><div class=\"dni-plaintext\"><pre>8934.85</pre></div></td></tr><tr><td>EntryAt</td><td><span>2018-02-10 07:17:00Z</span></td></tr><tr><td>Exit</td><td><div class=\"dni-plaintext\"><pre>8709.0</pre></div></td></tr><tr><td>ExitAt</td><td><span>2018-02-10 09:14:00Z</span></td></tr><tr><td>Status</td><td><span>Close</span></td></tr><tr><td>PnL</td><td><div class=\"dni-plaintext\"><pre>-225.85</pre></div></td></tr><tr><td>IsWin</td><td><div class=\"dni-plaintext\"><pre>False</pre></div></td></tr></tbody></table></div></details></td></tr><tr><td>17</td><td><details class=\"dni-treeview\"><summary><span class=\"dni-code-hint\"><code>BotTrade.Domain.Position</code></span></summary><div><table><thead><tr></tr></thead><tbody><tr><td>Id</td><td><div class=\"dni-plaintext\"><pre>4ae284ea-b1fa-4c16-90f0-814fe07e4396</pre></div></td></tr><tr><td>Symbol</td><td><span>Spot_BTCUSDT</span></td></tr><tr><td>Type</td><td><span>Short</span></td></tr><tr><td>Quantity</td><td><div class=\"dni-plaintext\"><pre>1</pre></div></td></tr><tr><td>Entry</td><td><div class=\"dni-plaintext\"><pre>8632.0</pre></div></td></tr><tr><td>EntryAt</td><td><span>2018-02-10 09:54:00Z</span></td></tr><tr><td>Exit</td><td><div class=\"dni-plaintext\"><pre>8568.85</pre></div></td></tr><tr><td>ExitAt</td><td><span>2018-02-10 11:09:00Z</span></td></tr><tr><td>Status</td><td><span>Close</span></td></tr><tr><td>PnL</td><td><div class=\"dni-plaintext\"><pre>-63.15</pre></div></td></tr><tr><td>IsWin</td><td><div class=\"dni-plaintext\"><pre>False</pre></div></td></tr></tbody></table></div></details></td></tr><tr><td>18</td><td><details class=\"dni-treeview\"><summary><span class=\"dni-code-hint\"><code>BotTrade.Domain.Position</code></span></summary><div><table><thead><tr></tr></thead><tbody><tr><td>Id</td><td><div class=\"dni-plaintext\"><pre>aec61b51-ca43-4d92-a7f2-ea86c9b5807d</pre></div></td></tr><tr><td>Symbol</td><td><span>Spot_BTCUSDT</span></td></tr><tr><td>Type</td><td><span>Short</span></td></tr><tr><td>Quantity</td><td><div class=\"dni-plaintext\"><pre>1</pre></div></td></tr><tr><td>Entry</td><td><div class=\"dni-plaintext\"><pre>8590.0</pre></div></td></tr><tr><td>EntryAt</td><td><span>2018-02-10 12:07:00Z</span></td></tr><tr><td>Exit</td><td><div class=\"dni-plaintext\"><pre>8637.13</pre></div></td></tr><tr><td>ExitAt</td><td><span>2018-02-10 12:41:00Z</span></td></tr><tr><td>Status</td><td><span>Close</span></td></tr><tr><td>PnL</td><td><div class=\"dni-plaintext\"><pre>47.13</pre></div></td></tr><tr><td>IsWin</td><td><div class=\"dni-plaintext\"><pre>True</pre></div></td></tr></tbody></table></div></details></td></tr><tr><td>19</td><td><details class=\"dni-treeview\"><summary><span class=\"dni-code-hint\"><code>BotTrade.Domain.Position</code></span></summary><div><table><thead><tr></tr></thead><tbody><tr><td>Id</td><td><div class=\"dni-plaintext\"><pre>bf4e5bd9-e8e1-43b1-9f29-2536b1c8736d</pre></div></td></tr><tr><td>Symbol</td><td><span>Spot_BTCUSDT</span></td></tr><tr><td>Type</td><td><span>Short</span></td></tr><tr><td>Quantity</td><td><div class=\"dni-plaintext\"><pre>1</pre></div></td></tr><tr><td>Entry</td><td><div class=\"dni-plaintext\"><pre>8710.04</pre></div></td></tr><tr><td>EntryAt</td><td><span>2018-02-10 13:52:00Z</span></td></tr><tr><td>Exit</td><td><div class=\"dni-plaintext\"><pre>8750.0</pre></div></td></tr><tr><td>ExitAt</td><td><span>2018-02-10 14:03:00Z</span></td></tr><tr><td>Status</td><td><span>Close</span></td></tr><tr><td>PnL</td><td><div class=\"dni-plaintext\"><pre>39.96</pre></div></td></tr><tr><td>IsWin</td><td><div class=\"dni-plaintext\"><pre>True</pre></div></td></tr></tbody></table></div></details></td></tr><tr><td colspan=\"2\"><i>(22329 more)</i></td></tr></tbody></table></td></tr><tr><td>PnL</td><td><div class=\"dni-plaintext\"><pre>22893.03</pre></div></td></tr><tr><td>ProfitAverage</td><td><div class=\"dni-plaintext\"><pre>17.412730360117903370498526208</pre></div></td></tr><tr><td>LossAverage</td><td><div class=\"dni-plaintext\"><pre>-36.904944386771466706213851401</pre></div></td></tr><tr><td>MaxWinStreak</td><td><div class=\"dni-plaintext\"><pre>22</pre></div></td></tr><tr><td>MaxLossStreak</td><td><div class=\"dni-plaintext\"><pre>7</pre></div></td></tr><tr><td>WinRate</td><td><div class=\"dni-plaintext\"><pre>69.82863</pre></div></td></tr><tr><td>MaxDrawdown</td><td><div class=\"dni-plaintext\"><pre>-6954.02</pre></div></td></tr><tr><td>RiskReward</td><td><div class=\"dni-plaintext\"><pre>0.4718264896331743504130903986</pre></div></td></tr></tbody></table></div></details><style>\r\n",
       ".dni-code-hint {\r\n",
       "    font-style: italic;\r\n",
       "    overflow: hidden;\r\n",
       "    white-space: nowrap;\r\n",
       "}\r\n",
       ".dni-treeview {\r\n",
       "    white-space: nowrap;\r\n",
       "}\r\n",
       ".dni-treeview td {\r\n",
       "    vertical-align: top;\r\n",
       "    text-align: start;\r\n",
       "}\r\n",
       "details.dni-treeview {\r\n",
       "    padding-left: 1em;\r\n",
       "}\r\n",
       "table td {\r\n",
       "    text-align: start;\r\n",
       "}\r\n",
       "table tr { \r\n",
       "    vertical-align: top; \r\n",
       "    margin: 0em 0px;\r\n",
       "}\r\n",
       "table tr td pre \r\n",
       "{ \r\n",
       "    vertical-align: top !important; \r\n",
       "    margin: 0em 0px !important;\r\n",
       "} \r\n",
       "table th {\r\n",
       "    text-align: start;\r\n",
       "}\r\n",
       "</style>"
      ]
     },
     "metadata": {},
     "output_type": "display_data"
    }
   ],
   "source": [
    "var factory = new BacktestBotFactory();\n",
    "var usecase = new RunAndReportUsecase(factory);\n",
    "var report = await usecase.Call(setting);\n",
    "report.Display();\n"
   ]
  }
 ],
 "metadata": {
  "kernelspec": {
   "display_name": ".NET (C#)",
   "language": "C#",
   "name": ".net-csharp"
  },
  "language_info": {
   "name": "csharp"
  },
  "polyglot_notebook": {
   "kernelInfo": {
    "defaultKernelName": "csharp",
    "items": [
     {
      "aliases": [],
      "name": "csharp"
     }
    ]
   }
  }
 },
 "nbformat": 4,
 "nbformat_minor": 2
}
