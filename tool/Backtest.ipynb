{
 "cells": [
  {
   "cell_type": "markdown",
   "metadata": {},
   "source": [
    "### 参照設定"
   ]
  },
  {
   "cell_type": "code",
   "execution_count": 1,
   "metadata": {
    "dotnet_interactive": {
     "language": "csharp"
    },
    "polyglot_notebook": {
     "kernelName": "csharp"
    },
    "vscode": {
     "languageId": "polyglot-notebook"
    }
   },
   "outputs": [
    {
     "data": {
      "text/html": [
       "<div><div></div><div></div><div><strong>Installed Packages</strong><ul><li><span>ccxt, 4.2.85</span></li><li><span>Microsoft.Data.Sqlite, 8.0.3</span></li><li><span>ReactiveProperty, 9.5.0</span></li><li><span>ScottPlot, 5.0.30</span></li><li><span>Skender.Stock.Indicators, 2.5.0</span></li><li><span>SkiaSharp.NativeAssets.Linux.NoDependencies, 2.88.8</span></li></ul></div></div>"
      ]
     },
     "metadata": {},
     "output_type": "display_data"
    },
    {
     "data": {
      "text/plain": [
       "Loading extensions from `/root/.nuget/packages/skiasharp/2.88.8/interactive-extensions/dotnet/SkiaSharp.DotNet.Interactive.dll`"
      ]
     },
     "metadata": {},
     "output_type": "display_data"
    }
   ],
   "source": [
    "#r \"nuget:Microsoft.Data.Sqlite,8.0.3\"\n",
    "#r \"nuget:Skender.Stock.Indicators,2.5.0\"\n",
    "#r \"nuget:ccxt,4.2.85\"\n",
    "#r \"nuget:ScottPlot,5.0.30\"\n",
    "#r \"nuget:ReactiveProperty,9.5.0\"\n",
    "#r \"nuget:SkiaSharp.NativeAssets.Linux.NoDependencies\"\n",
    "#r \"/workspace/src/Application/obj/Debug/net8.0/Application.dll\"\n",
    "#r \"/workspace/src/Common/obj/Debug/net8.0/Common.dll\"\n",
    "#r \"/workspace/src/Domain/obj/Debug/net8.0/Domain.dll\"\n",
    "#r \"/workspace/src/Infra/obj/Debug/net8.0/Infra.dll\"\n",
    "\n",
    "using BotTrade.Infra;\n",
    "using BotTrade.Infra.Exchanges;\n",
    "using BotTrade.Infra.Factories;\n",
    "using BotTrade.Domain;\n",
    "using BotTrade.Domain.Settings;\n",
    "using BotTrade.Domain.Strategies;\n",
    "using BotTrade.Application;\n",
    "using ScottPlot;\n",
    "using Microsoft.DotNet.Interactive.Formatting;\n"
   ]
  },
  {
   "cell_type": "markdown",
   "metadata": {},
   "source": [
    "### formatの設定\n",
    "chart画像の大きさ設定もここ"
   ]
  },
  {
   "cell_type": "code",
   "execution_count": 2,
   "metadata": {
    "dotnet_interactive": {
     "language": "csharp"
    },
    "polyglot_notebook": {
     "kernelName": "csharp"
    },
    "vscode": {
     "languageId": "polyglot-notebook"
    }
   },
   "outputs": [],
   "source": [
    "Formatter.Register(typeof(ScottPlot.Plot), (p, w) => \n",
    "    w.Write(((ScottPlot.Plot)p).GetImageHtml(1600, 1200)), HtmlFormatter.MimeType);\n"
   ]
  },
  {
   "cell_type": "markdown",
   "metadata": {},
   "source": [
    "### パラメータ設定"
   ]
  },
  {
   "cell_type": "code",
   "execution_count": 3,
   "metadata": {
    "dotnet_interactive": {
     "language": "csharp"
    },
    "polyglot_notebook": {
     "kernelName": "csharp"
    },
    "vscode": {
     "languageId": "polyglot-notebook"
    }
   },
   "outputs": [],
   "source": [
    "var setting = new BotSetting()\n",
    "{\n",
    "    Lot = 1,\n",
    "    Exchange = new ExchangeSetting()\n",
    "    {\n",
    "        Place = ExchangePlace.Binance,\n",
    "        Symbol = Symbol.Spot_BTCUSDT,\n",
    "        Range = new ExchangeSetting.DateTimeRange()\n",
    "        {\n",
    "            EndAt = new DateTimeOffset(2020, 12, 31, 23, 59, 59, 0, TimeSpan.Zero),\n",
    "        }\n",
    "    },\n",
    "    Strategy = new StrategySetting() \n",
    "    {\n",
    "        Kind = StrategyKind.MACross,\n",
    "        Timeframe = Timeframe.OneMinute,\n",
    "        Parameters = [ 10, 50 ],\n",
    "    },\n",
    "};\n",
    "\n"
   ]
  },
  {
   "cell_type": "markdown",
   "metadata": {},
   "source": [
    "### Bot稼働"
   ]
  },
  {
   "cell_type": "code",
   "execution_count": 4,
   "metadata": {
    "dotnet_interactive": {
     "language": "csharp"
    },
    "polyglot_notebook": {
     "kernelName": "csharp"
    },
    "vscode": {
     "languageId": "polyglot-notebook"
    }
   },
   "outputs": [
    {
     "name": "stdout",
     "output_type": "stream",
     "text": [
      "info: BotTrade.Domain.Bot[0]\n",
      "      Bot start at [(10, 50)] in Binance_BTC/USDT_1m\n"
     ]
    },
    {
     "data": {
      "text/html": [
       "<details open=\"open\" class=\"dni-treeview\"><summary><span class=\"dni-code-hint\"><code>ReportAndSetting { Setting = BotSetting { Lot = 1, Exchange = ExchangeSetting { Place = Binance, Symbol = Spot_BTCUSDT, Range = DateTimeRange { StartAt = 0001/01/01 0:00:00 +00:00, EndAt = 2020/12/31 23:59:59 +00:00 } }, Strategy = StrategySetting { Kind = MACross, Timeframe = OneMinute, Parameters ...</code></span></summary><div><table><thead><tr></tr></thead><tbody><tr><td>Setting</td><td><details class=\"dni-treeview\"><summary><span class=\"dni-code-hint\"><code>BotSetting { Lot = 1, Exchange = ExchangeSetting { Place = Binance, Symbol = Spot_BTCUSDT, Range = DateTimeRange { StartAt = 0001/01/01 0:00:00 +00:00, EndAt = 2020/12/31 23:59:59 +00:00 } }, Strategy = StrategySetting { Kind = MACross, Timeframe = OneMinute, Parameters = &lt;&gt;z__ReadOnlyArray`1[System...</code></span></summary><div><table><thead><tr></tr></thead><tbody><tr><td>Lot</td><td><div class=\"dni-plaintext\"><pre>1</pre></div></td></tr><tr><td>Exchange</td><td><details class=\"dni-treeview\"><summary><span class=\"dni-code-hint\"><code>ExchangeSetting { Place = Binance, Symbol = Spot_BTCUSDT, Range = DateTimeRange { StartAt = 0001/01/01 0:00:00 +00:00, EndAt = 2020/12/31 23:59:59 +00:00 } }</code></span></summary><div><table><thead><tr></tr></thead><tbody><tr><td>Place</td><td><span>Binance</span></td></tr><tr><td>Symbol</td><td><span>Spot_BTCUSDT</span></td></tr><tr><td>Range</td><td><details class=\"dni-treeview\"><summary><span class=\"dni-code-hint\"><code>DateTimeRange { StartAt = 0001/01/01 0:00:00 +00:00, EndAt = 2020/12/31 23:59:59 +00:00 }</code></span></summary><div><table><thead><tr></tr></thead><tbody><tr><td>StartAt</td><td><span>0001-01-01 00:00:00Z</span></td></tr><tr><td>EndAt</td><td><span>2020-12-31 23:59:59Z</span></td></tr></tbody></table></div></details></td></tr></tbody></table></div></details></td></tr><tr><td>Strategy</td><td><details class=\"dni-treeview\"><summary><span class=\"dni-code-hint\"><code>StrategySetting { Kind = MACross, Timeframe = OneMinute, Parameters = &lt;&gt;z__ReadOnlyArray`1[System.Decimal] }</code></span></summary><div><table><thead><tr></tr></thead><tbody><tr><td>Kind</td><td><span>MACross</span></td></tr><tr><td>Timeframe</td><td><span>OneMinute</span></td></tr><tr><td>Parameters</td><td><details class=\"dni-treeview\"><summary><span class=\"dni-code-hint\"><code>[ 10, 50 ]</code></span></summary><div><table><thead><tr></tr></thead><tbody><tr><td><i>(values)</i></td><td><div class=\"dni-plaintext\"><pre>[ 10, 50 ]</pre></div></td></tr></tbody></table></div></details></td></tr></tbody></table></div></details></td></tr><tr><td>IsTakeableMultiPosition</td><td><div class=\"dni-plaintext\"><pre>False</pre></div></td></tr><tr><td>ReportDir</td><td><div class=\"dni-plaintext\"><pre>MACross_10_50/Binance_Spot_BTCUSDT_1m</pre></div></td></tr></tbody></table></div></details></td></tr><tr><td>Report</td><td><details class=\"dni-treeview\"><summary><span class=\"dni-code-hint\"><code>BotTrade.Domain.StrategyReport</code></span></summary><div><table><thead><tr></tr></thead><tbody><tr><td>Trades</td><td><table><thead><tr><th><i>index</i></th><th>value</th></tr></thead><tbody><tr><td>0</td><td><details class=\"dni-treeview\"><summary><span class=\"dni-code-hint\"><code>BotTrade.Domain.Position</code></span></summary><div><table><thead><tr></tr></thead><tbody><tr><td>Id</td><td><div class=\"dni-plaintext\"><pre>e6cd4928-62e8-4eae-896b-48eda0b5c44f</pre></div></td></tr><tr><td>Symbol</td><td><span>Spot_BTCUSDT</span></td></tr><tr><td>Type</td><td><span>Short</span></td></tr><tr><td>Quantity</td><td><div class=\"dni-plaintext\"><pre>1</pre></div></td></tr><tr><td>Entry</td><td><div class=\"dni-plaintext\"><pre>8248.25</pre></div></td></tr><tr><td>EntryAt</td><td><span>2018-02-09 11:05:00Z</span></td></tr><tr><td>Exit</td><td><div class=\"dni-plaintext\"><pre>8245.0</pre></div></td></tr><tr><td>ExitAt</td><td><span>2018-02-09 11:06:00Z</span></td></tr><tr><td>Status</td><td><span>Close</span></td></tr><tr><td>PnL</td><td><div class=\"dni-plaintext\"><pre>-3.25</pre></div></td></tr><tr><td>IsWin</td><td><div class=\"dni-plaintext\"><pre>False</pre></div></td></tr></tbody></table></div></details></td></tr><tr><td>1</td><td><details class=\"dni-treeview\"><summary><span class=\"dni-code-hint\"><code>BotTrade.Domain.Position</code></span></summary><div><table><thead><tr></tr></thead><tbody><tr><td>Id</td><td><div class=\"dni-plaintext\"><pre>4b9ff626-d52d-4696-b4a3-94a83df22d59</pre></div></td></tr><tr><td>Symbol</td><td><span>Spot_BTCUSDT</span></td></tr><tr><td>Type</td><td><span>Short</span></td></tr><tr><td>Quantity</td><td><div class=\"dni-plaintext\"><pre>1</pre></div></td></tr><tr><td>Entry</td><td><div class=\"dni-plaintext\"><pre>8239.13</pre></div></td></tr><tr><td>EntryAt</td><td><span>2018-02-09 11:08:00Z</span></td></tr><tr><td>Exit</td><td><div class=\"dni-plaintext\"><pre>8281.51</pre></div></td></tr><tr><td>ExitAt</td><td><span>2018-02-09 11:16:00Z</span></td></tr><tr><td>Status</td><td><span>Close</span></td></tr><tr><td>PnL</td><td><div class=\"dni-plaintext\"><pre>42.38</pre></div></td></tr><tr><td>IsWin</td><td><div class=\"dni-plaintext\"><pre>True</pre></div></td></tr></tbody></table></div></details></td></tr><tr><td>2</td><td><details class=\"dni-treeview\"><summary><span class=\"dni-code-hint\"><code>BotTrade.Domain.Position</code></span></summary><div><table><thead><tr></tr></thead><tbody><tr><td>Id</td><td><div class=\"dni-plaintext\"><pre>d0d9f8ea-5e57-44eb-afc6-00999a937582</pre></div></td></tr><tr><td>Symbol</td><td><span>Spot_BTCUSDT</span></td></tr><tr><td>Type</td><td><span>Short</span></td></tr><tr><td>Quantity</td><td><div class=\"dni-plaintext\"><pre>1</pre></div></td></tr><tr><td>Entry</td><td><div class=\"dni-plaintext\"><pre>8280.11</pre></div></td></tr><tr><td>EntryAt</td><td><span>2018-02-09 11:59:00Z</span></td></tr><tr><td>Exit</td><td><div class=\"dni-plaintext\"><pre>8280.0</pre></div></td></tr><tr><td>ExitAt</td><td><span>2018-02-09 13:07:00Z</span></td></tr><tr><td>Status</td><td><span>Close</span></td></tr><tr><td>PnL</td><td><div class=\"dni-plaintext\"><pre>-0.11</pre></div></td></tr><tr><td>IsWin</td><td><div class=\"dni-plaintext\"><pre>False</pre></div></td></tr></tbody></table></div></details></td></tr><tr><td>3</td><td><details class=\"dni-treeview\"><summary><span class=\"dni-code-hint\"><code>BotTrade.Domain.Position</code></span></summary><div><table><thead><tr></tr></thead><tbody><tr><td>Id</td><td><div class=\"dni-plaintext\"><pre>3d84b18c-3b78-4bba-8459-2f175f8f4e1b</pre></div></td></tr><tr><td>Symbol</td><td><span>Spot_BTCUSDT</span></td></tr><tr><td>Type</td><td><span>Short</span></td></tr><tr><td>Quantity</td><td><div class=\"dni-plaintext\"><pre>1</pre></div></td></tr><tr><td>Entry</td><td><div class=\"dni-plaintext\"><pre>8397.93</pre></div></td></tr><tr><td>EntryAt</td><td><span>2018-02-09 15:11:00Z</span></td></tr><tr><td>Exit</td><td><div class=\"dni-plaintext\"><pre>8382.0</pre></div></td></tr><tr><td>ExitAt</td><td><span>2018-02-09 16:17:00Z</span></td></tr><tr><td>Status</td><td><span>Close</span></td></tr><tr><td>PnL</td><td><div class=\"dni-plaintext\"><pre>-15.93</pre></div></td></tr><tr><td>IsWin</td><td><div class=\"dni-plaintext\"><pre>False</pre></div></td></tr></tbody></table></div></details></td></tr><tr><td>4</td><td><details class=\"dni-treeview\"><summary><span class=\"dni-code-hint\"><code>BotTrade.Domain.Position</code></span></summary><div><table><thead><tr></tr></thead><tbody><tr><td>Id</td><td><div class=\"dni-plaintext\"><pre>40d5d927-6693-424d-8f2c-81978aa4a4fc</pre></div></td></tr><tr><td>Symbol</td><td><span>Spot_BTCUSDT</span></td></tr><tr><td>Type</td><td><span>Short</span></td></tr><tr><td>Quantity</td><td><div class=\"dni-plaintext\"><pre>1</pre></div></td></tr><tr><td>Entry</td><td><div class=\"dni-plaintext\"><pre>8389.94</pre></div></td></tr><tr><td>EntryAt</td><td><span>2018-02-09 16:51:00Z</span></td></tr><tr><td>Exit</td><td><div class=\"dni-plaintext\"><pre>8403.46</pre></div></td></tr><tr><td>ExitAt</td><td><span>2018-02-09 17:09:00Z</span></td></tr><tr><td>Status</td><td><span>Close</span></td></tr><tr><td>PnL</td><td><div class=\"dni-plaintext\"><pre>13.52</pre></div></td></tr><tr><td>IsWin</td><td><div class=\"dni-plaintext\"><pre>True</pre></div></td></tr></tbody></table></div></details></td></tr><tr><td>5</td><td><details class=\"dni-treeview\"><summary><span class=\"dni-code-hint\"><code>BotTrade.Domain.Position</code></span></summary><div><table><thead><tr></tr></thead><tbody><tr><td>Id</td><td><div class=\"dni-plaintext\"><pre>b6a7a300-a088-4b80-91fc-f1a31654d65b</pre></div></td></tr><tr><td>Symbol</td><td><span>Spot_BTCUSDT</span></td></tr><tr><td>Type</td><td><span>Short</span></td></tr><tr><td>Quantity</td><td><div class=\"dni-plaintext\"><pre>1</pre></div></td></tr><tr><td>Entry</td><td><div class=\"dni-plaintext\"><pre>8619.2</pre></div></td></tr><tr><td>EntryAt</td><td><span>2018-02-09 18:27:00Z</span></td></tr><tr><td>Exit</td><td><div class=\"dni-plaintext\"><pre>8671.32</pre></div></td></tr><tr><td>ExitAt</td><td><span>2018-02-09 19:03:00Z</span></td></tr><tr><td>Status</td><td><span>Close</span></td></tr><tr><td>PnL</td><td><div class=\"dni-plaintext\"><pre>52.12</pre></div></td></tr><tr><td>IsWin</td><td><div class=\"dni-plaintext\"><pre>True</pre></div></td></tr></tbody></table></div></details></td></tr><tr><td>6</td><td><details class=\"dni-treeview\"><summary><span class=\"dni-code-hint\"><code>BotTrade.Domain.Position</code></span></summary><div><table><thead><tr></tr></thead><tbody><tr><td>Id</td><td><div class=\"dni-plaintext\"><pre>f9463f5e-af7f-41f4-967f-ae09fbe11aeb</pre></div></td></tr><tr><td>Symbol</td><td><span>Spot_BTCUSDT</span></td></tr><tr><td>Type</td><td><span>Short</span></td></tr><tr><td>Quantity</td><td><div class=\"dni-plaintext\"><pre>1</pre></div></td></tr><tr><td>Entry</td><td><div class=\"dni-plaintext\"><pre>8619.99</pre></div></td></tr><tr><td>EntryAt</td><td><span>2018-02-09 19:45:00Z</span></td></tr><tr><td>Exit</td><td><div class=\"dni-plaintext\"><pre>8708.51</pre></div></td></tr><tr><td>ExitAt</td><td><span>2018-02-09 20:07:00Z</span></td></tr><tr><td>Status</td><td><span>Close</span></td></tr><tr><td>PnL</td><td><div class=\"dni-plaintext\"><pre>88.52</pre></div></td></tr><tr><td>IsWin</td><td><div class=\"dni-plaintext\"><pre>True</pre></div></td></tr></tbody></table></div></details></td></tr><tr><td>7</td><td><details class=\"dni-treeview\"><summary><span class=\"dni-code-hint\"><code>BotTrade.Domain.Position</code></span></summary><div><table><thead><tr></tr></thead><tbody><tr><td>Id</td><td><div class=\"dni-plaintext\"><pre>7c398f41-f77a-44e3-8a4c-50727d8e4190</pre></div></td></tr><tr><td>Symbol</td><td><span>Spot_BTCUSDT</span></td></tr><tr><td>Type</td><td><span>Short</span></td></tr><tr><td>Quantity</td><td><div class=\"dni-plaintext\"><pre>1</pre></div></td></tr><tr><td>Entry</td><td><div class=\"dni-plaintext\"><pre>8641.99</pre></div></td></tr><tr><td>EntryAt</td><td><span>2018-02-09 20:21:00Z</span></td></tr><tr><td>Exit</td><td><div class=\"dni-plaintext\"><pre>8580.29</pre></div></td></tr><tr><td>ExitAt</td><td><span>2018-02-09 21:08:00Z</span></td></tr><tr><td>Status</td><td><span>Close</span></td></tr><tr><td>PnL</td><td><div class=\"dni-plaintext\"><pre>-61.70</pre></div></td></tr><tr><td>IsWin</td><td><div class=\"dni-plaintext\"><pre>False</pre></div></td></tr></tbody></table></div></details></td></tr><tr><td>8</td><td><details class=\"dni-treeview\"><summary><span class=\"dni-code-hint\"><code>BotTrade.Domain.Position</code></span></summary><div><table><thead><tr></tr></thead><tbody><tr><td>Id</td><td><div class=\"dni-plaintext\"><pre>90ec1d0c-d4ec-4f74-bf52-8d64bc86acd6</pre></div></td></tr><tr><td>Symbol</td><td><span>Spot_BTCUSDT</span></td></tr><tr><td>Type</td><td><span>Short</span></td></tr><tr><td>Quantity</td><td><div class=\"dni-plaintext\"><pre>1</pre></div></td></tr><tr><td>Entry</td><td><div class=\"dni-plaintext\"><pre>8531.99</pre></div></td></tr><tr><td>EntryAt</td><td><span>2018-02-09 21:13:00Z</span></td></tr><tr><td>Exit</td><td><div class=\"dni-plaintext\"><pre>8572.99</pre></div></td></tr><tr><td>ExitAt</td><td><span>2018-02-09 21:52:00Z</span></td></tr><tr><td>Status</td><td><span>Close</span></td></tr><tr><td>PnL</td><td><div class=\"dni-plaintext\"><pre>41.00</pre></div></td></tr><tr><td>IsWin</td><td><div class=\"dni-plaintext\"><pre>True</pre></div></td></tr></tbody></table></div></details></td></tr><tr><td>9</td><td><details class=\"dni-treeview\"><summary><span class=\"dni-code-hint\"><code>BotTrade.Domain.Position</code></span></summary><div><table><thead><tr></tr></thead><tbody><tr><td>Id</td><td><div class=\"dni-plaintext\"><pre>861fc56b-7423-405c-a51e-3f3b034ea696</pre></div></td></tr><tr><td>Symbol</td><td><span>Spot_BTCUSDT</span></td></tr><tr><td>Type</td><td><span>Short</span></td></tr><tr><td>Quantity</td><td><div class=\"dni-plaintext\"><pre>1</pre></div></td></tr><tr><td>Entry</td><td><div class=\"dni-plaintext\"><pre>8480.84</pre></div></td></tr><tr><td>EntryAt</td><td><span>2018-02-09 22:11:00Z</span></td></tr><tr><td>Exit</td><td><div class=\"dni-plaintext\"><pre>8509.99</pre></div></td></tr><tr><td>ExitAt</td><td><span>2018-02-09 22:41:00Z</span></td></tr><tr><td>Status</td><td><span>Close</span></td></tr><tr><td>PnL</td><td><div class=\"dni-plaintext\"><pre>29.15</pre></div></td></tr><tr><td>IsWin</td><td><div class=\"dni-plaintext\"><pre>True</pre></div></td></tr></tbody></table></div></details></td></tr><tr><td>10</td><td><details class=\"dni-treeview\"><summary><span class=\"dni-code-hint\"><code>BotTrade.Domain.Position</code></span></summary><div><table><thead><tr></tr></thead><tbody><tr><td>Id</td><td><div class=\"dni-plaintext\"><pre>19d662d1-86ff-402b-adf8-8e06c99befe1</pre></div></td></tr><tr><td>Symbol</td><td><span>Spot_BTCUSDT</span></td></tr><tr><td>Type</td><td><span>Short</span></td></tr><tr><td>Quantity</td><td><div class=\"dni-plaintext\"><pre>1</pre></div></td></tr><tr><td>Entry</td><td><div class=\"dni-plaintext\"><pre>8603.0</pre></div></td></tr><tr><td>EntryAt</td><td><span>2018-02-10 00:05:00Z</span></td></tr><tr><td>Exit</td><td><div class=\"dni-plaintext\"><pre>8705.0</pre></div></td></tr><tr><td>ExitAt</td><td><span>2018-02-10 00:17:00Z</span></td></tr><tr><td>Status</td><td><span>Close</span></td></tr><tr><td>PnL</td><td><div class=\"dni-plaintext\"><pre>102.0</pre></div></td></tr><tr><td>IsWin</td><td><div class=\"dni-plaintext\"><pre>True</pre></div></td></tr></tbody></table></div></details></td></tr><tr><td>11</td><td><details class=\"dni-treeview\"><summary><span class=\"dni-code-hint\"><code>BotTrade.Domain.Position</code></span></summary><div><table><thead><tr></tr></thead><tbody><tr><td>Id</td><td><div class=\"dni-plaintext\"><pre>b615b62b-9d5a-4ff6-8966-d47d298a73ae</pre></div></td></tr><tr><td>Symbol</td><td><span>Spot_BTCUSDT</span></td></tr><tr><td>Type</td><td><span>Short</span></td></tr><tr><td>Quantity</td><td><div class=\"dni-plaintext\"><pre>1</pre></div></td></tr><tr><td>Entry</td><td><div class=\"dni-plaintext\"><pre>8882.91</pre></div></td></tr><tr><td>EntryAt</td><td><span>2018-02-10 01:29:00Z</span></td></tr><tr><td>Exit</td><td><div class=\"dni-plaintext\"><pre>8900.03</pre></div></td></tr><tr><td>ExitAt</td><td><span>2018-02-10 01:36:00Z</span></td></tr><tr><td>Status</td><td><span>Close</span></td></tr><tr><td>PnL</td><td><div class=\"dni-plaintext\"><pre>17.12</pre></div></td></tr><tr><td>IsWin</td><td><div class=\"dni-plaintext\"><pre>True</pre></div></td></tr></tbody></table></div></details></td></tr><tr><td>12</td><td><details class=\"dni-treeview\"><summary><span class=\"dni-code-hint\"><code>BotTrade.Domain.Position</code></span></summary><div><table><thead><tr></tr></thead><tbody><tr><td>Id</td><td><div class=\"dni-plaintext\"><pre>705bcc81-9700-4dbb-9b20-e86fa8bc16e0</pre></div></td></tr><tr><td>Symbol</td><td><span>Spot_BTCUSDT</span></td></tr><tr><td>Type</td><td><span>Short</span></td></tr><tr><td>Quantity</td><td><div class=\"dni-plaintext\"><pre>1</pre></div></td></tr><tr><td>Entry</td><td><div class=\"dni-plaintext\"><pre>8828.19</pre></div></td></tr><tr><td>EntryAt</td><td><span>2018-02-10 01:47:00Z</span></td></tr><tr><td>Exit</td><td><div class=\"dni-plaintext\"><pre>8848.99</pre></div></td></tr><tr><td>ExitAt</td><td><span>2018-02-10 02:19:00Z</span></td></tr><tr><td>Status</td><td><span>Close</span></td></tr><tr><td>PnL</td><td><div class=\"dni-plaintext\"><pre>20.80</pre></div></td></tr><tr><td>IsWin</td><td><div class=\"dni-plaintext\"><pre>True</pre></div></td></tr></tbody></table></div></details></td></tr><tr><td>13</td><td><details class=\"dni-treeview\"><summary><span class=\"dni-code-hint\"><code>BotTrade.Domain.Position</code></span></summary><div><table><thead><tr></tr></thead><tbody><tr><td>Id</td><td><div class=\"dni-plaintext\"><pre>78f067b4-e041-4680-9aa2-ec66346429b9</pre></div></td></tr><tr><td>Symbol</td><td><span>Spot_BTCUSDT</span></td></tr><tr><td>Type</td><td><span>Short</span></td></tr><tr><td>Quantity</td><td><div class=\"dni-plaintext\"><pre>1</pre></div></td></tr><tr><td>Entry</td><td><div class=\"dni-plaintext\"><pre>8907.03</pre></div></td></tr><tr><td>EntryAt</td><td><span>2018-02-10 03:51:00Z</span></td></tr><tr><td>Exit</td><td><div class=\"dni-plaintext\"><pre>8835.0</pre></div></td></tr><tr><td>ExitAt</td><td><span>2018-02-10 04:51:00Z</span></td></tr><tr><td>Status</td><td><span>Close</span></td></tr><tr><td>PnL</td><td><div class=\"dni-plaintext\"><pre>-72.03</pre></div></td></tr><tr><td>IsWin</td><td><div class=\"dni-plaintext\"><pre>False</pre></div></td></tr></tbody></table></div></details></td></tr><tr><td>14</td><td><details class=\"dni-treeview\"><summary><span class=\"dni-code-hint\"><code>BotTrade.Domain.Position</code></span></summary><div><table><thead><tr></tr></thead><tbody><tr><td>Id</td><td><div class=\"dni-plaintext\"><pre>e4352366-f1ee-414d-b5e6-c640ba9d2fe5</pre></div></td></tr><tr><td>Symbol</td><td><span>Spot_BTCUSDT</span></td></tr><tr><td>Type</td><td><span>Short</span></td></tr><tr><td>Quantity</td><td><div class=\"dni-plaintext\"><pre>1</pre></div></td></tr><tr><td>Entry</td><td><div class=\"dni-plaintext\"><pre>8775.39</pre></div></td></tr><tr><td>EntryAt</td><td><span>2018-02-10 04:58:00Z</span></td></tr><tr><td>Exit</td><td><div class=\"dni-plaintext\"><pre>8818.96</pre></div></td></tr><tr><td>ExitAt</td><td><span>2018-02-10 05:11:00Z</span></td></tr><tr><td>Status</td><td><span>Close</span></td></tr><tr><td>PnL</td><td><div class=\"dni-plaintext\"><pre>43.57</pre></div></td></tr><tr><td>IsWin</td><td><div class=\"dni-plaintext\"><pre>True</pre></div></td></tr></tbody></table></div></details></td></tr><tr><td>15</td><td><details class=\"dni-treeview\"><summary><span class=\"dni-code-hint\"><code>BotTrade.Domain.Position</code></span></summary><div><table><thead><tr></tr></thead><tbody><tr><td>Id</td><td><div class=\"dni-plaintext\"><pre>41ca69f8-5170-4b56-b70b-2a6870f171ae</pre></div></td></tr><tr><td>Symbol</td><td><span>Spot_BTCUSDT</span></td></tr><tr><td>Type</td><td><span>Short</span></td></tr><tr><td>Quantity</td><td><div class=\"dni-plaintext\"><pre>1</pre></div></td></tr><tr><td>Entry</td><td><div class=\"dni-plaintext\"><pre>8839.98</pre></div></td></tr><tr><td>EntryAt</td><td><span>2018-02-10 05:56:00Z</span></td></tr><tr><td>Exit</td><td><div class=\"dni-plaintext\"><pre>8894.39</pre></div></td></tr><tr><td>ExitAt</td><td><span>2018-02-10 06:17:00Z</span></td></tr><tr><td>Status</td><td><span>Close</span></td></tr><tr><td>PnL</td><td><div class=\"dni-plaintext\"><pre>54.41</pre></div></td></tr><tr><td>IsWin</td><td><div class=\"dni-plaintext\"><pre>True</pre></div></td></tr></tbody></table></div></details></td></tr><tr><td>16</td><td><details class=\"dni-treeview\"><summary><span class=\"dni-code-hint\"><code>BotTrade.Domain.Position</code></span></summary><div><table><thead><tr></tr></thead><tbody><tr><td>Id</td><td><div class=\"dni-plaintext\"><pre>08f65a2d-3849-4f4c-94f2-a7787323e2c1</pre></div></td></tr><tr><td>Symbol</td><td><span>Spot_BTCUSDT</span></td></tr><tr><td>Type</td><td><span>Short</span></td></tr><tr><td>Quantity</td><td><div class=\"dni-plaintext\"><pre>1</pre></div></td></tr><tr><td>Entry</td><td><div class=\"dni-plaintext\"><pre>8934.85</pre></div></td></tr><tr><td>EntryAt</td><td><span>2018-02-10 07:17:00Z</span></td></tr><tr><td>Exit</td><td><div class=\"dni-plaintext\"><pre>8709.0</pre></div></td></tr><tr><td>ExitAt</td><td><span>2018-02-10 09:14:00Z</span></td></tr><tr><td>Status</td><td><span>Close</span></td></tr><tr><td>PnL</td><td><div class=\"dni-plaintext\"><pre>-225.85</pre></div></td></tr><tr><td>IsWin</td><td><div class=\"dni-plaintext\"><pre>False</pre></div></td></tr></tbody></table></div></details></td></tr><tr><td>17</td><td><details class=\"dni-treeview\"><summary><span class=\"dni-code-hint\"><code>BotTrade.Domain.Position</code></span></summary><div><table><thead><tr></tr></thead><tbody><tr><td>Id</td><td><div class=\"dni-plaintext\"><pre>9f43c001-5de7-4080-88e3-4a3f68d4db74</pre></div></td></tr><tr><td>Symbol</td><td><span>Spot_BTCUSDT</span></td></tr><tr><td>Type</td><td><span>Short</span></td></tr><tr><td>Quantity</td><td><div class=\"dni-plaintext\"><pre>1</pre></div></td></tr><tr><td>Entry</td><td><div class=\"dni-plaintext\"><pre>8632.0</pre></div></td></tr><tr><td>EntryAt</td><td><span>2018-02-10 09:54:00Z</span></td></tr><tr><td>Exit</td><td><div class=\"dni-plaintext\"><pre>8568.85</pre></div></td></tr><tr><td>ExitAt</td><td><span>2018-02-10 11:09:00Z</span></td></tr><tr><td>Status</td><td><span>Close</span></td></tr><tr><td>PnL</td><td><div class=\"dni-plaintext\"><pre>-63.15</pre></div></td></tr><tr><td>IsWin</td><td><div class=\"dni-plaintext\"><pre>False</pre></div></td></tr></tbody></table></div></details></td></tr><tr><td>18</td><td><details class=\"dni-treeview\"><summary><span class=\"dni-code-hint\"><code>BotTrade.Domain.Position</code></span></summary><div><table><thead><tr></tr></thead><tbody><tr><td>Id</td><td><div class=\"dni-plaintext\"><pre>1c45d5b0-ea02-4898-9649-32d7c0d50c5e</pre></div></td></tr><tr><td>Symbol</td><td><span>Spot_BTCUSDT</span></td></tr><tr><td>Type</td><td><span>Short</span></td></tr><tr><td>Quantity</td><td><div class=\"dni-plaintext\"><pre>1</pre></div></td></tr><tr><td>Entry</td><td><div class=\"dni-plaintext\"><pre>8590.0</pre></div></td></tr><tr><td>EntryAt</td><td><span>2018-02-10 12:07:00Z</span></td></tr><tr><td>Exit</td><td><div class=\"dni-plaintext\"><pre>8637.13</pre></div></td></tr><tr><td>ExitAt</td><td><span>2018-02-10 12:41:00Z</span></td></tr><tr><td>Status</td><td><span>Close</span></td></tr><tr><td>PnL</td><td><div class=\"dni-plaintext\"><pre>47.13</pre></div></td></tr><tr><td>IsWin</td><td><div class=\"dni-plaintext\"><pre>True</pre></div></td></tr></tbody></table></div></details></td></tr><tr><td>19</td><td><details class=\"dni-treeview\"><summary><span class=\"dni-code-hint\"><code>BotTrade.Domain.Position</code></span></summary><div><table><thead><tr></tr></thead><tbody><tr><td>Id</td><td><div class=\"dni-plaintext\"><pre>6c70b1d7-804b-4049-a34f-930a8ff7d8c9</pre></div></td></tr><tr><td>Symbol</td><td><span>Spot_BTCUSDT</span></td></tr><tr><td>Type</td><td><span>Short</span></td></tr><tr><td>Quantity</td><td><div class=\"dni-plaintext\"><pre>1</pre></div></td></tr><tr><td>Entry</td><td><div class=\"dni-plaintext\"><pre>8710.04</pre></div></td></tr><tr><td>EntryAt</td><td><span>2018-02-10 13:52:00Z</span></td></tr><tr><td>Exit</td><td><div class=\"dni-plaintext\"><pre>8750.0</pre></div></td></tr><tr><td>ExitAt</td><td><span>2018-02-10 14:03:00Z</span></td></tr><tr><td>Status</td><td><span>Close</span></td></tr><tr><td>PnL</td><td><div class=\"dni-plaintext\"><pre>39.96</pre></div></td></tr><tr><td>IsWin</td><td><div class=\"dni-plaintext\"><pre>True</pre></div></td></tr></tbody></table></div></details></td></tr><tr><td colspan=\"2\"><i>(22329 more)</i></td></tr></tbody></table></td></tr><tr><td>PnL</td><td><div class=\"dni-plaintext\"><pre>22893.03</pre></div></td></tr><tr><td>ProfitAverage</td><td><div class=\"dni-plaintext\"><pre>17.412730360117903370498526208</pre></div></td></tr><tr><td>LossAverage</td><td><div class=\"dni-plaintext\"><pre>-36.904944386771466706213851401</pre></div></td></tr><tr><td>MaxWinStreak</td><td><div class=\"dni-plaintext\"><pre>22</pre></div></td></tr><tr><td>MaxLossStreak</td><td><div class=\"dni-plaintext\"><pre>7</pre></div></td></tr><tr><td>WinRate</td><td><div class=\"dni-plaintext\"><pre>69.82863</pre></div></td></tr><tr><td>MaxDrawdown</td><td><div class=\"dni-plaintext\"><pre>-6954.02</pre></div></td></tr><tr><td>RiskReward</td><td><div class=\"dni-plaintext\"><pre>0.4718264896331743504130903986</pre></div></td></tr></tbody></table></div></details></td></tr></tbody></table></div></details><style>\r\n",
       ".dni-code-hint {\r\n",
       "    font-style: italic;\r\n",
       "    overflow: hidden;\r\n",
       "    white-space: nowrap;\r\n",
       "}\r\n",
       ".dni-treeview {\r\n",
       "    white-space: nowrap;\r\n",
       "}\r\n",
       ".dni-treeview td {\r\n",
       "    vertical-align: top;\r\n",
       "    text-align: start;\r\n",
       "}\r\n",
       "details.dni-treeview {\r\n",
       "    padding-left: 1em;\r\n",
       "}\r\n",
       "table td {\r\n",
       "    text-align: start;\r\n",
       "}\r\n",
       "table tr { \r\n",
       "    vertical-align: top; \r\n",
       "    margin: 0em 0px;\r\n",
       "}\r\n",
       "table tr td pre \r\n",
       "{ \r\n",
       "    vertical-align: top !important; \r\n",
       "    margin: 0em 0px !important;\r\n",
       "} \r\n",
       "table th {\r\n",
       "    text-align: start;\r\n",
       "}\r\n",
       "</style>"
      ]
     },
     "metadata": {},
     "output_type": "display_data"
    }
   ],
   "source": [
    "var factory = new BacktestBotFactory();\n",
    "var usecase = new RunAndReportUsecase(factory);\n",
    "var report = await usecase.Call(setting);\n",
    "report.Display();\n"
   ]
  }
 ],
 "metadata": {
  "kernelspec": {
   "display_name": ".NET (C#)",
   "language": "C#",
   "name": ".net-csharp"
  },
  "language_info": {
   "name": "csharp"
  },
  "polyglot_notebook": {
   "kernelInfo": {
    "defaultKernelName": "csharp",
    "items": [
     {
      "aliases": [],
      "name": "csharp"
     }
    ]
   }
  }
 },
 "nbformat": 4,
 "nbformat_minor": 2
}
