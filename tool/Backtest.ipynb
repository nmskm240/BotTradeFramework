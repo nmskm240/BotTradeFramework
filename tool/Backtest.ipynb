{
 "cells": [
  {
   "cell_type": "markdown",
   "metadata": {},
   "source": [
    "### 参照設定"
   ]
  },
  {
   "cell_type": "code",
   "execution_count": null,
   "metadata": {
    "dotnet_interactive": {
     "language": "csharp"
    },
    "polyglot_notebook": {
     "kernelName": "csharp"
    },
    "vscode": {
     "languageId": "polyglot-notebook"
    }
   },
   "outputs": [],
   "source": [
    "#r \"nuget:Microsoft.Data.Sqlite,8.0.3\"\n",
    "#r \"nuget:Skender.Stock.Indicators,2.5.0\"\n",
    "#r \"nuget:ccxt,4.2.85\"\n",
    "#r \"nuget:ScottPlot,5.0.30\"\n",
    "#r \"nuget:ReactiveProperty,9.5.0\"\n",
    "#r \"nuget:SkiaSharp.NativeAssets.Linux.NoDependencies\"\n",
    "#r \"/workspace/src/Common/obj/Debug/net8.0/Common.dll\"\n",
    "#r \"/workspace/src/Domain/obj/Debug/net8.0/Domain.dll\"\n",
    "#r \"/workspace/src/Infra/obj/Debug/net8.0/Infra.dll\"\n",
    "\n",
    "using BotTrade.Infra;\n",
    "using BotTrade.Infra.Exchanges;\n",
    "using BotTrade.Domain;\n",
    "using BotTrade.Domain.Strategies;\n",
    "using ScottPlot;\n",
    "using Microsoft.DotNet.Interactive.Formatting;\n"
   ]
  },
  {
   "cell_type": "markdown",
   "metadata": {},
   "source": [
    "### formatの設定\n",
    "chart画像の大きさ設定もここ"
   ]
  },
  {
   "cell_type": "code",
   "execution_count": null,
   "metadata": {
    "dotnet_interactive": {
     "language": "csharp"
    },
    "polyglot_notebook": {
     "kernelName": "csharp"
    },
    "vscode": {
     "languageId": "polyglot-notebook"
    }
   },
   "outputs": [],
   "source": [
    "Formatter.Register(typeof(ScottPlot.Plot), (p, w) => \n",
    "    w.Write(((ScottPlot.Plot)p).GetImageHtml(1600, 1200)), HtmlFormatter.MimeType);\n"
   ]
  },
  {
   "cell_type": "markdown",
   "metadata": {},
   "source": [
    "### パラメータ設定"
   ]
  },
  {
   "cell_type": "code",
   "execution_count": null,
   "metadata": {
    "dotnet_interactive": {
     "language": "csharp"
    },
    "polyglot_notebook": {
     "kernelName": "csharp"
    },
    "vscode": {
     "languageId": "polyglot-notebook"
    }
   },
   "outputs": [],
   "source": [
    "var setting = new Setting.Bot()\n",
    "{\n",
    "    Lot = 1,\n",
    "    Exchange = new Setting.Exchange()\n",
    "    {\n",
    "        Place = ExchangePlace.Bybit,\n",
    "        Symbol = Symbol.Spot_BTCUSDT,\n",
    "        Range = new Setting.Exchange.DateTimeRange()\n",
    "        {\n",
    "            StartAt = new DateTimeOffset(2021, 1, 1, 0, 0, 0, 0, TimeSpan.Zero),\n",
    "            EndAt = new DateTimeOffset(2023, 1, 1, 0, 0, 0, 0, TimeSpan.Zero),\n",
    "        }\n",
    "    },\n",
    "    Strategies = \n",
    "    [\n",
    "        new Setting.Strategy() \n",
    "        {\n",
    "            Kind = StrategyKind.MACross,\n",
    "            Timeframe = Timeframe.FiveMinute,\n",
    "            Parameters = [ 10, 50 ],\n",
    "        },\n",
    "    ],\n",
    "};\n",
    "\n"
   ]
  },
  {
   "cell_type": "markdown",
   "metadata": {},
   "source": [
    "### Bot稼働"
   ]
  },
  {
   "cell_type": "code",
   "execution_count": null,
   "metadata": {
    "dotnet_interactive": {
     "language": "csharp"
    },
    "polyglot_notebook": {
     "kernelName": "csharp"
    },
    "vscode": {
     "languageId": "polyglot-notebook"
    }
   },
   "outputs": [],
   "source": [
    "\n",
    "var factory = new BotFactory();\n",
    "var bot = factory.Create(setting);\n",
    "bot.Start();\n"
   ]
  },
  {
   "cell_type": "markdown",
   "metadata": {},
   "source": [
    "### chartの描画\n"
   ]
  },
  {
   "cell_type": "markdown",
   "metadata": {},
   "source": [
    "##### 分析チャート\n",
    "{\n",
    "    1: ロウソク足\n",
    "    2: 取引高\n",
    "    3~: ユーザ定義\n",
    "}"
   ]
  },
  {
   "cell_type": "code",
   "execution_count": null,
   "metadata": {
    "dotnet_interactive": {
     "language": "csharp"
    },
    "polyglot_notebook": {
     "kernelName": "csharp"
    },
    "slideshow": {
     "slide_type": "skip"
    },
    "vscode": {
     "languageId": "polyglot-notebook"
    }
   },
   "outputs": [],
   "source": [
    "var charts = bot.ChartMaker?.Output();\n",
    "foreach(var chart in charts)\n",
    "{\n",
    "    chart.Display();\n",
    "}\n"
   ]
  },
  {
   "cell_type": "markdown",
   "metadata": {
    "vscode": {
     "languageId": "polyglot-notebook"
    }
   },
   "source": [
    "#### バックテスト結果\n"
   ]
  },
  {
   "cell_type": "code",
   "execution_count": null,
   "metadata": {
    "dotnet_interactive": {
     "language": "csharp"
    },
    "polyglot_notebook": {
     "kernelName": "csharp"
    },
    "vscode": {
     "languageId": "polyglot-notebook"
    }
   },
   "outputs": [],
   "source": [
    "var report = bot.Reporter.Report();\n",
    "report?.Display();\n"
   ]
  }
 ],
 "metadata": {
  "kernelspec": {
   "display_name": ".NET (C#)",
   "language": "C#",
   "name": ".net-csharp"
  },
  "language_info": {
   "name": "csharp"
  },
  "polyglot_notebook": {
   "kernelInfo": {
    "defaultKernelName": "csharp",
    "items": [
     {
      "aliases": [],
      "name": "csharp"
     }
    ]
   }
  }
 },
 "nbformat": 4,
 "nbformat_minor": 2
}
