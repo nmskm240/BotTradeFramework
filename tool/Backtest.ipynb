{
 "cells": [
  {
   "cell_type": "code",
   "execution_count": 1,
   "metadata": {
    "dotnet_interactive": {
     "language": "csharp"
    },
    "polyglot_notebook": {
     "kernelName": "csharp"
    },
    "vscode": {
     "languageId": "polyglot-notebook"
    }
   },
   "outputs": [
    {
     "data": {
      "text/html": [
       "<div><div></div><div></div><div><strong>Installed Packages</strong><ul><li><span>ccxt, 4.2.85</span></li><li><span>Microsoft.Data.Sqlite, 8.0.3</span></li><li><span>ScottPlot, 5.0.30</span></li><li><span>Skender.Stock.Indicators, 2.5.0</span></li></ul></div></div>"
      ]
     },
     "metadata": {},
     "output_type": "display_data"
    },
    {
     "data": {
      "text/plain": [
       "Loading extensions from `/root/.nuget/packages/skiasharp/2.88.8/interactive-extensions/dotnet/SkiaSharp.DotNet.Interactive.dll`"
      ]
     },
     "metadata": {},
     "output_type": "display_data"
    }
   ],
   "source": [
    "#r \"nuget:Microsoft.Data.Sqlite,8.0.3\"\n",
    "#r \"nuget:Skender.Stock.Indicators,2.5.0\"\n",
    "#r \"nuget:ccxt,4.2.85\"\n",
    "#r \"nuget:ScottPlot,5.0.30\"\n",
    "#r \"/workspaces/sandbox/src/Common/obj/Debug/net8.0/Common.dll\"\n",
    "#r \"/workspaces/sandbox/src/Domain/obj/Debug/net8.0/Domain.dll\"\n",
    "#r \"/workspaces/sandbox/src/Infra/obj/Debug/net8.0/Infra.dll\"\n"
   ]
  },
  {
   "cell_type": "code",
   "execution_count": 2,
   "metadata": {
    "dotnet_interactive": {
     "language": "csharp"
    },
    "polyglot_notebook": {
     "kernelName": "csharp"
    },
    "vscode": {
     "languageId": "polyglot-notebook"
    }
   },
   "outputs": [
    {
     "name": "stdout",
     "output_type": "stream",
     "text": [
      "29867.81\n"
     ]
    }
   ],
   "source": [
    "using BotTrade.Infra;\n",
    "using BotTrade.Infra.Exchanges;\n",
    "using BotTrade.Domain;\n",
    "using BotTrade.Domain.Strategies;\n",
    "\n",
    "var parameter = new MACrossParameter(Symbol.Spot_BTCUSDT, Timeframe.OneDay, 5, 10);\n",
    "var container = new BacktestContainer<MACross, MACrossParameter>(parameter);\n",
    "var strategy = container.Resolve();\n",
    "\n",
    "strategy.MightStart(100);\n",
    "\n",
    "Console.WriteLine(strategy.Capital);\n",
    "\n"
   ]
  }
 ],
 "metadata": {
  "language_info": {
   "name": "csharp"
  }
 },
 "nbformat": 4,
 "nbformat_minor": 2
}
