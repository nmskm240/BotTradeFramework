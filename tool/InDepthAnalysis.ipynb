{
 "cells": [
  {
   "cell_type": "markdown",
   "metadata": {},
   "source": [
    "### 参照設定"
   ]
  },
  {
   "cell_type": "code",
   "execution_count": 1,
   "metadata": {
    "dotnet_interactive": {
     "language": "csharp"
    },
    "polyglot_notebook": {
     "kernelName": "csharp"
    },
    "vscode": {
     "languageId": "polyglot-notebook"
    }
   },
   "outputs": [
    {
     "data": {
      "text/html": [
       "<div><div></div><div></div><div><strong>Installed Packages</strong><ul><li><span>ccxt, 4.2.85</span></li><li><span>Microsoft.Data.Sqlite, 8.0.3</span></li><li><span>ReactiveProperty, 9.5.0</span></li><li><span>ScottPlot, 5.0.30</span></li><li><span>Skender.Stock.Indicators, 2.5.0</span></li><li><span>SkiaSharp.NativeAssets.Linux.NoDependencies, 2.88.8</span></li></ul></div></div>"
      ]
     },
     "metadata": {},
     "output_type": "display_data"
    },
    {
     "data": {
      "text/plain": [
       "Loading extensions from `/root/.nuget/packages/skiasharp/2.88.8/interactive-extensions/dotnet/SkiaSharp.DotNet.Interactive.dll`"
      ]
     },
     "metadata": {},
     "output_type": "display_data"
    }
   ],
   "source": [
    "#r \"nuget:Microsoft.Data.Sqlite,8.0.3\"\n",
    "#r \"nuget:Skender.Stock.Indicators,2.5.0\"\n",
    "#r \"nuget:ccxt,4.2.85\"\n",
    "#r \"nuget:ScottPlot,5.0.30\"\n",
    "#r \"nuget:ReactiveProperty,9.5.0\"\n",
    "#r \"nuget:SkiaSharp.NativeAssets.Linux.NoDependencies\"\n",
    "#r \"/workspace/src/Application/obj/Debug/net8.0/Application.dll\"\n",
    "#r \"/workspace/src/Common/obj/Debug/net8.0/Common.dll\"\n",
    "#r \"/workspace/src/Domain/obj/Debug/net8.0/Domain.dll\"\n",
    "#r \"/workspace/src/Infra/obj/Debug/net8.0/Infra.dll\"\n",
    "\n",
    "using BotTrade.Infra;\n",
    "using BotTrade.Infra.Exchanges;\n",
    "using BotTrade.Infra.Factories;\n",
    "using BotTrade.Domain;\n",
    "using BotTrade.Domain.Settings;\n",
    "using BotTrade.Domain.Strategies;\n",
    "using BotTrade.Application;\n",
    "using ScottPlot;\n",
    "using Microsoft.DotNet.Interactive.Formatting;\n"
   ]
  },
  {
   "cell_type": "markdown",
   "metadata": {},
   "source": [
    "### formatの設定\n",
    "chart画像の大きさ設定もここ"
   ]
  },
  {
   "cell_type": "code",
   "execution_count": 2,
   "metadata": {
    "dotnet_interactive": {
     "language": "csharp"
    },
    "polyglot_notebook": {
     "kernelName": "csharp"
    },
    "vscode": {
     "languageId": "polyglot-notebook"
    }
   },
   "outputs": [],
   "source": [
    "Formatter.Register(typeof(ScottPlot.Plot), (p, w) => \n",
    "    w.Write(((ScottPlot.Plot)p).GetImageHtml(1600, 1200)), HtmlFormatter.MimeType);\n"
   ]
  },
  {
   "cell_type": "markdown",
   "metadata": {},
   "source": [
    "### パラメータ設定"
   ]
  },
  {
   "cell_type": "code",
   "execution_count": 3,
   "metadata": {
    "dotnet_interactive": {
     "language": "csharp"
    },
    "polyglot_notebook": {
     "kernelName": "csharp"
    },
    "vscode": {
     "languageId": "polyglot-notebook"
    }
   },
   "outputs": [],
   "source": [
    "var setting = new BotSetting()\n",
    "{\n",
    "    Lot = 1,\n",
    "    Exchange = new ExchangeSetting()\n",
    "    {\n",
    "        Place = ExchangePlace.Binance,\n",
    "        Symbol = Symbol.Spot_BTCUSDT,\n",
    "        Range = new ExchangeSetting.DateTimeRange()\n",
    "        {\n",
    "            EndAt = new DateTimeOffset(2020, 12, 31, 23, 59, 59, 0, TimeSpan.Zero),\n",
    "        }\n",
    "    },\n",
    "    Strategy = new StrategySetting() \n",
    "    {\n",
    "        Kind = StrategyKind.MACross,\n",
    "        Timeframe = Timeframe.OneDay,\n",
    "        Parameters = [ 10, 50 ],\n",
    "    },\n",
    "};\n",
    "\n"
   ]
  },
  {
   "cell_type": "markdown",
   "metadata": {},
   "source": [
    "### Bot稼働"
   ]
  },
  {
   "cell_type": "code",
   "execution_count": null,
   "metadata": {
    "dotnet_interactive": {
     "language": "csharp"
    },
    "polyglot_notebook": {
     "kernelName": "csharp"
    },
    "vscode": {
     "languageId": "polyglot-notebook"
    }
   },
   "outputs": [],
   "source": [
    "var factory = new BacktestBotFactory();\n",
    "var usecase = new InDepthAnalysisUsecase(factory);\n",
    "var plot = new Plot();\n",
    "await usecase.Call(setting, (withEvidence) => \n",
    "{\n",
    "    \n",
    "});\n"
   ]
  },
  {
   "cell_type": "code",
   "execution_count": null,
   "metadata": {
    "dotnet_interactive": {
     "language": "csharp"
    },
    "polyglot_notebook": {
     "kernelName": "csharp"
    },
    "vscode": {
     "languageId": "polyglot-notebook"
    }
   },
   "outputs": [],
   "source": []
  }
 ],
 "metadata": {
  "kernelspec": {
   "display_name": ".NET (C#)",
   "language": "C#",
   "name": ".net-csharp"
  },
  "language_info": {
   "name": "csharp"
  },
  "polyglot_notebook": {
   "kernelInfo": {
    "defaultKernelName": "csharp",
    "items": [
     {
      "aliases": [],
      "name": "csharp"
     }
    ]
   }
  }
 },
 "nbformat": 4,
 "nbformat_minor": 2
}
